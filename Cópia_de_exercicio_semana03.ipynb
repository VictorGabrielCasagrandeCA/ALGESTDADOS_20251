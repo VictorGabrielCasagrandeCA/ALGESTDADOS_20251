{
  "nbformat": 4,
  "nbformat_minor": 0,
  "metadata": {
    "colab": {
      "provenance": [],
      "authorship_tag": "ABX9TyO7UChpITcWz2YACvRysfbf",
      "include_colab_link": true
    },
    "kernelspec": {
      "name": "python3",
      "display_name": "Python 3"
    },
    "language_info": {
      "name": "python"
    }
  },
  "cells": [
    {
      "cell_type": "markdown",
      "metadata": {
        "id": "view-in-github",
        "colab_type": "text"
      },
      "source": [
        "<a href=\"https://colab.research.google.com/github/VictorGabrielCasagrandeCA/ALGESTDADOS_20251/blob/main/C%C3%B3pia_de_exercicio_semana03.ipynb\" target=\"_parent\"><img src=\"https://colab.research.google.com/assets/colab-badge.svg\" alt=\"Open In Colab\"/></a>"
      ]
    },
    {
      "cell_type": "code",
      "execution_count": null,
      "metadata": {
        "colab": {
          "base_uri": "https://localhost:8080/"
        },
        "id": "HWehSXsURXHf",
        "outputId": "f274c849-4b0f-4b28-c07a-63a03f0ec757"
      },
      "outputs": [
        {
          "output_type": "stream",
          "name": "stdout",
          "text": [
            "Qual o número?1\n",
            "Qual o número?2\n",
            "3\n"
          ]
        }
      ],
      "source": [
        "num1 = int(input('Qual o número?'))\n",
        "num2 = int(input('Qual o número?'))\n",
        "resultado = num1 + num2\n",
        "print(resultado)\n"
      ]
    },
    {
      "cell_type": "code",
      "source": [
        "nom1= input('qual o seu nome?')\n",
        "nom2= input('qual o seu sobrenome?')\n",
        "print(f'Seu nome é {nom1} {nom2}')"
      ],
      "metadata": {
        "colab": {
          "base_uri": "https://localhost:8080/"
        },
        "id": "uCz2VBguTWCA",
        "outputId": "ae7f889d-7751-4e76-9795-cee3fceb5960"
      },
      "execution_count": null,
      "outputs": [
        {
          "output_type": "stream",
          "name": "stdout",
          "text": [
            "qual o seu nome?victor\n",
            "qual o seu sobrenome?gabriel\n",
            "Seu nome é victor gabriel\n"
          ]
        }
      ]
    },
    {
      "cell_type": "code",
      "source": [
        "palavra= input('qual palavra?')\n",
        "nvezes= int(input('respetir essa palavra quantas vezes?'))\n",
        "print((palavra+'\\n') * nvezes)"
      ],
      "metadata": {
        "colab": {
          "base_uri": "https://localhost:8080/"
        },
        "id": "5mkR0RNoURGY",
        "outputId": "11a6cf09-9604-4e27-8aba-e63f065a5217"
      },
      "execution_count": null,
      "outputs": [
        {
          "output_type": "stream",
          "name": "stdout",
          "text": [
            "qual palavra?vic\n",
            "respetir essa palavra quantas vezes?10\n",
            "vic\n",
            "vic\n",
            "vic\n",
            "vic\n",
            "vic\n",
            "vic\n",
            "vic\n",
            "vic\n",
            "vic\n",
            "vic\n",
            "\n"
          ]
        }
      ]
    },
    {
      "cell_type": "code",
      "source": [
        "plv= input('palavra?')\n",
        "print(plv.upper())\n"
      ],
      "metadata": {
        "colab": {
          "base_uri": "https://localhost:8080/"
        },
        "id": "mq6DBJJeV6W4",
        "outputId": "c78f615a-0952-4651-bffa-861f0fa1956f"
      },
      "execution_count": null,
      "outputs": [
        {
          "output_type": "stream",
          "name": "stdout",
          "text": [
            "palavra?victor\n",
            "VICTOR\n"
          ]
        }
      ]
    },
    {
      "cell_type": "code",
      "source": [
        "plv= input('Qual a palavra?')\n",
        "print(len(plv))\n"
      ],
      "metadata": {
        "colab": {
          "base_uri": "https://localhost:8080/"
        },
        "id": "Krm7rZnLXzTl",
        "outputId": "3f92cd7e-8954-490a-d6d6-c39da81cd1ae"
      },
      "execution_count": null,
      "outputs": [
        {
          "output_type": "stream",
          "name": "stdout",
          "text": [
            "Qual a palavra?victor\n",
            "6\n"
          ]
        }
      ]
    },
    {
      "cell_type": "code",
      "source": [
        "from datetime import datetime\n",
        "import pytz\n",
        "fuso_horario = pytz.timezone('america/Sao_Paulo')\n",
        "data_hora_atual = datetime.now(fuso_horario)\n",
        "print ('data e hora atual:', data_hora_atual)\n"
      ],
      "metadata": {
        "colab": {
          "base_uri": "https://localhost:8080/"
        },
        "id": "uD5_oIBwZMFc",
        "outputId": "d5528509-5cd2-4b6c-c4e2-6200ad19139a"
      },
      "execution_count": null,
      "outputs": [
        {
          "output_type": "stream",
          "name": "stdout",
          "text": [
            "data e hora atual: 2025-03-13 13:48:46.828843-03:00\n"
          ]
        }
      ]
    },
    {
      "cell_type": "code",
      "source": [
        "from datetime import datetime\n",
        "data_nasc = input('quando você nasceu? (DD/MM/YYYY)')\n",
        "data_conv = datetime.strptime(data_nasc,'%d/%m/%Y')\n",
        "hoje = datetime.now()\n",
        "idade = (hoje - data_conv).days // 365\n",
        "print(f'sua idade é {idade} anos')"
      ],
      "metadata": {
        "colab": {
          "base_uri": "https://localhost:8080/"
        },
        "id": "iv4X6Mp6v4N0",
        "outputId": "df3c7450-8f62-47f3-ce4a-843081ab7408"
      },
      "execution_count": null,
      "outputs": [
        {
          "output_type": "stream",
          "name": "stdout",
          "text": [
            "quando você nasceu? (DD/MM/YYYY)07/10/2006\n",
            "sua idade é 18 anos\n"
          ]
        }
      ]
    },
    {
      "cell_type": "code",
      "source": [
        "num1= float(input('Qual o número 1?'))\n",
        "num2= float(input('Qual o número 2?'))\n",
        "num3= float(input('Qual o número 3?'))\n",
        "resultado= (num1+num2+num3)/3\n",
        "print(resultado)"
      ],
      "metadata": {
        "colab": {
          "base_uri": "https://localhost:8080/"
        },
        "id": "mC_Fwo6TbkaV",
        "outputId": "9a78b750-c004-4253-be77-592f0f976675"
      },
      "execution_count": null,
      "outputs": [
        {
          "output_type": "stream",
          "name": "stdout",
          "text": [
            "Qual o número 1?2.5\n",
            "Qual o número 2?3\n",
            "Qual o número 3?2\n",
            "2.5\n"
          ]
        }
      ]
    },
    {
      "cell_type": "code",
      "source": [
        "from datetime import datetime\n",
        "data_nasc = input('quando você nasceu? (DD/MM/YYYY)')\n",
        "data_conv = datetime.strptime(data_nasc,'%d/%m/%Y')\n",
        "hoje = datetime.now()\n",
        "dias = (hoje - data_conv).days\n",
        "print(f'sua idade é {dias} dias')"
      ],
      "metadata": {
        "colab": {
          "base_uri": "https://localhost:8080/"
        },
        "id": "zuZNyEtMc8im",
        "outputId": "0b635ad0-85bd-4592-9480-48f8d9e5f121"
      },
      "execution_count": null,
      "outputs": [
        {
          "output_type": "stream",
          "name": "stdout",
          "text": [
            "quando você nasceu? (DD/MM/YYYY)07/10/2006\n",
            "sua idade é 6732 dias\n"
          ]
        }
      ]
    },
    {
      "cell_type": "code",
      "source": [
        "from datetime import datetime\n",
        "data1= input('Qual a data em AAAA/MM/DD?')\n",
        "data_conv= datetime.strptime(data1,'%Y/%m/%d')\n",
        "print(data_conv.strftime('%d/%m/%Y'))\n",
        "\n",
        "\n"
      ],
      "metadata": {
        "colab": {
          "base_uri": "https://localhost:8080/"
        },
        "id": "0V0IdvkoeMUh",
        "outputId": "964aabd1-6c1a-4c57-81dd-39a39f0e50ea"
      },
      "execution_count": null,
      "outputs": [
        {
          "output_type": "stream",
          "name": "stdout",
          "text": [
            "Qual a data em AAAA/MM/DD?2006/07/10\n",
            "10/07/2006\n"
          ]
        }
      ]
    },
    {
      "cell_type": "code",
      "source": [
        "from math import pi\n",
        "raio= float(input('Qual o raio?'))\n",
        "resultado= pi*(raio*raio)\n",
        "print(resultado)"
      ],
      "metadata": {
        "colab": {
          "base_uri": "https://localhost:8080/"
        },
        "id": "SBcxqf5I1v7G",
        "outputId": "2933cff2-7f74-47c0-dbbb-8d736eb9bcc7"
      },
      "execution_count": null,
      "outputs": [
        {
          "output_type": "stream",
          "name": "stdout",
          "text": [
            "Qual o raio?2\n",
            "12.566370614359172\n"
          ]
        }
      ]
    },
    {
      "cell_type": "code",
      "source": [
        "peso= float(input('digite o seu peso'))\n",
        "altura= float(input('digite sua altura'))\n",
        "imc = peso/(altura*altura)\n",
        "print(imc)"
      ],
      "metadata": {
        "colab": {
          "base_uri": "https://localhost:8080/"
        },
        "id": "Xl2IWhZE454j",
        "outputId": "5d0faa85-eff2-4ea6-fec2-1b571ae0300c"
      },
      "execution_count": null,
      "outputs": [
        {
          "output_type": "stream",
          "name": "stdout",
          "text": [
            "digite o seu peso69\n",
            "digite sua altura1.81\n",
            "21.06162815542871\n"
          ]
        }
      ]
    },
    {
      "cell_type": "code",
      "source": [
        "b1= float(input('qual a base 1?'))\n",
        "b2= float(input('qual a base 2?'))\n",
        "h= float(input('qual a altura do trapezio?'))\n",
        "r= ((b1+b2)*h)/2\n",
        "print(r)"
      ],
      "metadata": {
        "colab": {
          "base_uri": "https://localhost:8080/"
        },
        "id": "ePrMIzsyBE3-",
        "outputId": "76e3f277-4f61-4c67-ceec-8b522910c66d"
      },
      "execution_count": null,
      "outputs": [
        {
          "output_type": "stream",
          "name": "stdout",
          "text": [
            "qual a base 1?2\n",
            "qual a base 2?3\n",
            "qual a altura do trapezio?5\n",
            "12.5\n"
          ]
        }
      ]
    },
    {
      "cell_type": "code",
      "source": [
        "gr= float(input('qual a temperatura em graus celsius?'))\n",
        "r= (gr*1.8)+32\n",
        "print(f'a temperatura em fahrenheit é {r}')"
      ],
      "metadata": {
        "colab": {
          "base_uri": "https://localhost:8080/"
        },
        "id": "bcCQCQ0SDymd",
        "outputId": "cb8f0b73-bc0c-4326-b1f5-8124caf9db17"
      },
      "execution_count": null,
      "outputs": [
        {
          "output_type": "stream",
          "name": "stdout",
          "text": [
            "qual a temperatura em graus celsius?30\n",
            "a temperatura em fahrenheit é 86.0\n"
          ]
        }
      ]
    },
    {
      "cell_type": "code",
      "source": [
        "num= int(input('qual o número?'))\n",
        "fatorial= 1\n",
        "for i in range(1, num + 1):\n",
        "  fatorial*=i\n",
        "print(fatorial)\n"
      ],
      "metadata": {
        "colab": {
          "base_uri": "https://localhost:8080/",
          "height": 211
        },
        "id": "ayC2-oe3EwPm",
        "outputId": "f0f30442-9656-48ee-837b-adf375041b8e"
      },
      "execution_count": null,
      "outputs": [
        {
          "name": "stdout",
          "output_type": "stream",
          "text": [
            "qual o número?99999999999999999999\n"
          ]
        },
        {
          "output_type": "error",
          "ename": "KeyboardInterrupt",
          "evalue": "",
          "traceback": [
            "\u001b[0;31m---------------------------------------------------------------------------\u001b[0m",
            "\u001b[0;31mKeyboardInterrupt\u001b[0m                         Traceback (most recent call last)",
            "\u001b[0;32m<ipython-input-29-f59d72648e65>\u001b[0m in \u001b[0;36m<cell line: 0>\u001b[0;34m()\u001b[0m\n\u001b[1;32m      2\u001b[0m \u001b[0mfatorial\u001b[0m\u001b[0;34m=\u001b[0m \u001b[0;36m1\u001b[0m\u001b[0;34m\u001b[0m\u001b[0;34m\u001b[0m\u001b[0m\n\u001b[1;32m      3\u001b[0m \u001b[0;32mfor\u001b[0m \u001b[0mi\u001b[0m \u001b[0;32min\u001b[0m \u001b[0mrange\u001b[0m\u001b[0;34m(\u001b[0m\u001b[0;36m1\u001b[0m\u001b[0;34m,\u001b[0m \u001b[0mnum\u001b[0m \u001b[0;34m+\u001b[0m \u001b[0;36m1\u001b[0m\u001b[0;34m)\u001b[0m\u001b[0;34m:\u001b[0m\u001b[0;34m\u001b[0m\u001b[0;34m\u001b[0m\u001b[0m\n\u001b[0;32m----> 4\u001b[0;31m   \u001b[0mfatorial\u001b[0m\u001b[0;34m*=\u001b[0m\u001b[0mi\u001b[0m\u001b[0;34m\u001b[0m\u001b[0;34m\u001b[0m\u001b[0m\n\u001b[0m\u001b[1;32m      5\u001b[0m \u001b[0mprint\u001b[0m\u001b[0;34m(\u001b[0m\u001b[0mfatorial\u001b[0m\u001b[0;34m)\u001b[0m\u001b[0;34m\u001b[0m\u001b[0;34m\u001b[0m\u001b[0m\n",
            "\u001b[0;31mKeyboardInterrupt\u001b[0m: "
          ]
        }
      ]
    }
  ]
}