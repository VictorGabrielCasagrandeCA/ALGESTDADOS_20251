{
  "nbformat": 4,
  "nbformat_minor": 0,
  "metadata": {
    "colab": {
      "provenance": [],
      "include_colab_link": true
    },
    "kernelspec": {
      "name": "python3",
      "display_name": "Python 3"
    },
    "language_info": {
      "name": "python"
    }
  },
  "cells": [
    {
      "cell_type": "markdown",
      "metadata": {
        "id": "view-in-github",
        "colab_type": "text"
      },
      "source": [
        "<a href=\"https://colab.research.google.com/github/VictorGabrielCasagrandeCA/ALGESTDADOS_20251/blob/main/ATIVIDADEAV_1.ipynb\" target=\"_parent\"><img src=\"https://colab.research.google.com/assets/colab-badge.svg\" alt=\"Open In Colab\"/></a>"
      ]
    },
    {
      "cell_type": "markdown",
      "source": [
        "### #16. Peça a velocidade de um carro em km/h e informe se ela ultrapassa o limite de 80 km/h."
      ],
      "metadata": {
        "id": "e6818DHfptO1"
      }
    },
    {
      "cell_type": "code",
      "source": [
        "velocidade = float(input('Digite a velocidade de um carro em km/h: '))\n",
        "if velocidade > 80:\n",
        "  print(f'O carro está com a velocidade acima de 80 km/h.')\n",
        "else:\n",
        "  print(f'O carro está com a velocidade abaixo de 80km/h.')"
      ],
      "metadata": {
        "colab": {
          "base_uri": "https://localhost:8080/"
        },
        "id": "VKeqj9khpvCx",
        "outputId": "d6300adf-a563-4467-ef2d-41afdcd289d0"
      },
      "execution_count": null,
      "outputs": [
        {
          "output_type": "stream",
          "name": "stdout",
          "text": [
            "Digite a velocidade de um carro em km/h: 81\n",
            "O carro está com a velocidade acima de 80 km/h.\n"
          ]
        }
      ]
    },
    {
      "cell_type": "markdown",
      "source": [
        "### #17. Solicite um número ao usuário e informe se ele é divisível por 4 ou por 5. Exiba uma mensagem adequada."
      ],
      "metadata": {
        "id": "4jEHaeIis0tS"
      }
    },
    {
      "cell_type": "code",
      "source": [
        "num = int(input('Digite um número: '))\n",
        "if num%4==0 or num%5==0 :\n",
        "  print(f'{num} é divisível de 4 ou 5.')\n",
        "else:\n",
        "  print(f'{num} não é divisível de 4 ou 5.')"
      ],
      "metadata": {
        "colab": {
          "base_uri": "https://localhost:8080/"
        },
        "id": "gKbFaan-tPXs",
        "outputId": "d2b9a2aa-c862-495c-8ccf-73787ae8af8d"
      },
      "execution_count": null,
      "outputs": [
        {
          "output_type": "stream",
          "name": "stdout",
          "text": [
            "Digite um número: 25\n",
            "25 é divisível de 4 ou 5.\n"
          ]
        }
      ]
    },
    {
      "cell_type": "markdown",
      "source": [
        "### #18. Peça uma palavra ao usuário e verifique se ela contém a letra \"z\". Mostre uma mensagem informando o resultado."
      ],
      "metadata": {
        "id": "nFzM2D-awEjQ"
      }
    },
    {
      "cell_type": "code",
      "source": [
        "palavra = input('Digite palavra: ')\n",
        "if 'Z' or 'z' in palavra:\n",
        "  print(f'{palavra} tem a letra Z.')\n",
        "else:\n",
        "  print(f'{palavra} não tem a letra Z.')"
      ],
      "metadata": {
        "colab": {
          "base_uri": "https://localhost:8080/"
        },
        "id": "Lu7KWEMKwL2F",
        "outputId": "2395cc93-6240-4498-ae82-a4704d8f6fd0"
      },
      "execution_count": null,
      "outputs": [
        {
          "output_type": "stream",
          "name": "stdout",
          "text": [
            "Digite palavra: Zaga\n",
            "Zaga tem a letra Z.\n"
          ]
        }
      ]
    },
    {
      "cell_type": "markdown",
      "source": [
        "### #19. Solicite a quantidade de itens em um pedido e informe se ela é maior ou menor que 15 unidades."
      ],
      "metadata": {
        "id": "5hrAXum6yM8t"
      }
    },
    {
      "cell_type": "code",
      "source": [
        "pedido = int(input('Digite a quantidade de itens do pedido: '))\n",
        "if pedido > 15:\n",
        "  print(f'Seu pedido tem mais de 15 unidades.')\n",
        "elif pedido == 15:\n",
        "  print(f'Seu pedido tem 15 unidades.')\n",
        "else:\n",
        "  print(f'Seu pedido tem menos de 15 unidades.')"
      ],
      "metadata": {
        "colab": {
          "base_uri": "https://localhost:8080/"
        },
        "id": "7sP-qhNQyRPq",
        "outputId": "95188a45-c9e4-4ebf-c664-5767c3144dbd"
      },
      "execution_count": null,
      "outputs": [
        {
          "output_type": "stream",
          "name": "stdout",
          "text": [
            "Digite a quantidade de itens do pedido: 14\n",
            "Seu pedido tem menos de 15 unidades.\n"
          ]
        }
      ]
    },
    {
      "cell_type": "markdown",
      "source": [
        "### #20. Peça um número e verifique se ele termina com o dígito 7. Informe o resultado."
      ],
      "metadata": {
        "id": "deOfoU8k0pLt"
      }
    },
    {
      "cell_type": "code",
      "source": [
        "num = int(input('Digite um número: '))\n",
        "if 7 == num%10:\n",
        "  print(f'Seu número termina com o dígito 7.')\n",
        "else:\n",
        "  print(f'Seu número não termina com o dígito 7.')"
      ],
      "metadata": {
        "colab": {
          "base_uri": "https://localhost:8080/"
        },
        "id": "pLOtkw2I0sNd",
        "outputId": "ad533646-c1c1-4241-ea6f-01f645a186a5"
      },
      "execution_count": null,
      "outputs": [
        {
          "output_type": "stream",
          "name": "stdout",
          "text": [
            "Digite um número: 17\n",
            "Seu número termina com o dígito 7.\n"
          ]
        }
      ]
    },
    {
      "cell_type": "markdown",
      "source": [
        "### #21. Solicite o ano de fabricação de um veículo e informe se ele tem mais de 20 anos."
      ],
      "metadata": {
        "id": "pWELHLl957K0"
      }
    },
    {
      "cell_type": "code",
      "source": [
        "ano = int(input('Digite o ano de fabricação do veículo: '))\n",
        "if 2025-ano > 20:\n",
        "  print(f'O veículo tem mais de 20 anos.')\n",
        "elif 2025-ano < 20:\n",
        "  print(f'O veiculo tem menos de 20 anos.')\n",
        "else:\n",
        "  print(f'O veículo tem 20 anos.')"
      ],
      "metadata": {
        "colab": {
          "base_uri": "https://localhost:8080/"
        },
        "id": "RTDVUkiQ6GkZ",
        "outputId": "fbda80ec-9c46-4622-c7d9-2eabb8672a79"
      },
      "execution_count": null,
      "outputs": [
        {
          "output_type": "stream",
          "name": "stdout",
          "text": [
            "Digite o ano de fabricação do veículo: 2024\n",
            "O veiculo tem menos de 20 anos.\n"
          ]
        }
      ]
    },
    {
      "cell_type": "markdown",
      "source": [
        "### #22. Peça um número de telefone e verifique se ele contém o dígito 9. Exiba o resultado."
      ],
      "metadata": {
        "id": "vznZym7g7PE3"
      }
    },
    {
      "cell_type": "code",
      "source": [
        "num = int(input('Digite um número de telefone: '))\n",
        "if 9 <= num :\n",
        "  print(f'O número contém o dígito 9.')\n",
        "else:\n",
        "  print(f'O número não contém o dígito 9.')"
      ],
      "metadata": {
        "colab": {
          "base_uri": "https://localhost:8080/"
        },
        "id": "cczvK56r7TDe",
        "outputId": "772e8c9e-95ec-440c-f369-f3d872c98f57"
      },
      "execution_count": null,
      "outputs": [
        {
          "output_type": "stream",
          "name": "stdout",
          "text": [
            "Digite um número de telefone: 999999999\n",
            "O número contém o dígito 9.\n"
          ]
        }
      ]
    },
    {
      "cell_type": "markdown",
      "source": [
        "### #23. Solicite um número e informe se ele possui exatamente 2 dígitos."
      ],
      "metadata": {
        "id": "f2gM5VIL9qX7"
      }
    },
    {
      "cell_type": "code",
      "source": [
        "num = int(input('Digite um número:'))\n",
        "if 99 >= num >= 10:\n",
        "  print(f'O número possui 2 dígitos.')\n",
        "else:\n",
        "  print(f'O número não possui dígitos.')"
      ],
      "metadata": {
        "colab": {
          "base_uri": "https://localhost:8080/"
        },
        "id": "TMTcBPzu9tXB",
        "outputId": "9570abef-fe92-451d-db0b-b907a3f041c7"
      },
      "execution_count": null,
      "outputs": [
        {
          "output_type": "stream",
          "name": "stdout",
          "text": [
            "Digite um número:10\n",
            "O número possui 2 dígitos.\n"
          ]
        }
      ]
    },
    {
      "cell_type": "markdown",
      "source": [
        "### #24. Peça o preço de um ingresso e aplique um desconto de 15%. Verifique se o preço com desconto ainda é superior a R$50,00 e exiba uma mensagem informando o resultado."
      ],
      "metadata": {
        "id": "tDLQeu7t-KOn"
      }
    },
    {
      "cell_type": "code",
      "source": [
        "preço = int(input('Digite o preço do ingresso: '))\n",
        "desconto = preço - (preço*15/100)\n",
        "if desconto > 50:\n",
        "  print(f'O preço do ingresso é {desconto} reais ou seja maior que 50 reais.')\n",
        "else:\n",
        "  print(f'O preço do ingresso é {desconto} reais ou seja menor que 50 reais.')"
      ],
      "metadata": {
        "colab": {
          "base_uri": "https://localhost:8080/"
        },
        "id": "JpjoECGb-MO7",
        "outputId": "8cb4f627-fabd-4683-ed3b-2a808f5e5d29"
      },
      "execution_count": null,
      "outputs": [
        {
          "output_type": "stream",
          "name": "stdout",
          "text": [
            "Digite o preço do ingresso: 30\n",
            "O preço do ingresso é 25.5 reais ou seja menor que 50 reais.\n"
          ]
        }
      ]
    },
    {
      "cell_type": "markdown",
      "source": [
        "### #25. Solicite um número ao usuário e informe se ele é divisível por 8. Exiba o resultado."
      ],
      "metadata": {
        "id": "WUqKHx0bScx4"
      }
    },
    {
      "cell_type": "code",
      "source": [
        "num = int(input('Digite um número: '))\n",
        "if num%8 == 0:\n",
        "  print(f'O número {num} é divisível por 8.')\n",
        "else:\n",
        "  print(f'O número {num} não é divisível por 8.')"
      ],
      "metadata": {
        "colab": {
          "base_uri": "https://localhost:8080/"
        },
        "id": "ZwJYE5R1SgZK",
        "outputId": "ab5b3c03-b6ed-48ac-9faf-9d1d10af0395"
      },
      "execution_count": null,
      "outputs": [
        {
          "output_type": "stream",
          "name": "stdout",
          "text": [
            "Digite um número: 80\n",
            "O número 80 é divisível por 8.\n"
          ]
        }
      ]
    },
    {
      "cell_type": "markdown",
      "source": [
        "### #26. Peça um número e verifique se ele é divisível tanto por 5 quanto por 9. Informe o resultado."
      ],
      "metadata": {
        "id": "6-MyswSxSy0y"
      }
    },
    {
      "cell_type": "code",
      "source": [
        "num = int(input('Digite um número: '))\n",
        "if num%5 == 0 and num%9 == 0:\n",
        "  print(f'O número {num} é divisível tanto por 5 quanto por 9.')\n",
        "else:\n",
        "  print(f'O número {num} não é divisível por 5 e por 9.')"
      ],
      "metadata": {
        "colab": {
          "base_uri": "https://localhost:8080/"
        },
        "id": "Ygf3G3DzSzv2",
        "outputId": "176e54c0-5a3a-4bc1-e048-5c83f450a87a"
      },
      "execution_count": null,
      "outputs": [
        {
          "output_type": "stream",
          "name": "stdout",
          "text": [
            "Digite um número: 45\n",
            "O número 45 é divisível tanto por 5 quanto por 9.\n"
          ]
        }
      ]
    },
    {
      "cell_type": "markdown",
      "source": [
        "### #27. Solicite o peso de um objeto em kg e informe se ele pesa mais de 25 kg."
      ],
      "metadata": {
        "id": "dwVg2xWHTLz0"
      }
    },
    {
      "cell_type": "code",
      "source": [
        "peso = float(input('Digite o peso do objeto em kg: '))\n",
        "if peso > 25:\n",
        "  print(f'O objeto pesa mais de 25 kg.')\n",
        "elif peso == 25:\n",
        "  print(f'O objeto pesa 25 kg.')\n",
        "else:\n",
        "  print(f'O objeto não pesa mais de 25 kg.')"
      ],
      "metadata": {
        "colab": {
          "base_uri": "https://localhost:8080/"
        },
        "id": "GiMTNxdOTMvj",
        "outputId": "03ff250e-be0a-4790-ced8-3013b3c30b86"
      },
      "execution_count": null,
      "outputs": [
        {
          "output_type": "stream",
          "name": "stdout",
          "text": [
            "Digite o peso do objeto em kg: 24.5\n",
            "O objeto não pesa mais de 25 kg.\n"
          ]
        }
      ]
    },
    {
      "cell_type": "markdown",
      "source": [
        "### #28. Peça uma letra ao usuário e informe se ela é uma vogal ou uma consoante. Considere letras minúsculas e maiúsculas."
      ],
      "metadata": {
        "id": "AmGmm4McTaR9"
      }
    },
    {
      "cell_type": "code",
      "source": [
        "letra = input('Digite uma letra: ')\n",
        "letra = letra.upper()\n",
        "if letra == 'A' or letra == 'E' or letra == 'I' or letra == 'O' or letra == 'U':\n",
        "  print(f'A letra {letra} é uma vogal.')\n",
        "else:\n",
        "  print(f'A letra {letra} é uma consoante.')"
      ],
      "metadata": {
        "colab": {
          "base_uri": "https://localhost:8080/"
        },
        "id": "bJTmEAOJThCP",
        "outputId": "59a7a925-5291-453f-e05b-d894f7f35815"
      },
      "execution_count": null,
      "outputs": [
        {
          "output_type": "stream",
          "name": "stdout",
          "text": [
            "Digite uma letra: A\n",
            "A letra A é uma vogal.\n"
          ]
        }
      ]
    },
    {
      "cell_type": "markdown",
      "source": [
        "### #29. Solicite a velocidade de um veículo e informe se ela está abaixo, dentro ou acima do limite de 60 km/h."
      ],
      "metadata": {
        "id": "tg3tCZIOUJJf"
      }
    },
    {
      "cell_type": "code",
      "source": [
        "velocidade = float(input('Digite a velocidade do veículo em km/h: '))\n",
        "if velocidade > 60:\n",
        "  print(f'O veículo está acima do limite de 60 km/h.')\n",
        "elif velocidade < 30:\n",
        "  print(f'O veículo está abaixo do limite de 60 km/h.')\n",
        "else:\n",
        "  print(f'O veículo está dentro do limite de 60 km/h.')"
      ],
      "metadata": {
        "colab": {
          "base_uri": "https://localhost:8080/"
        },
        "id": "2q0BfOGHUMxU",
        "outputId": "8fd8fcec-4a04-4389-e781-0180f00b45c9"
      },
      "execution_count": null,
      "outputs": [
        {
          "output_type": "stream",
          "name": "stdout",
          "text": [
            "Digite a velocidade do veículo em km/h: 29\n",
            "O veículo está abaixo do limite de 60 km/h.\n"
          ]
        }
      ]
    },
    {
      "cell_type": "markdown",
      "source": [
        "### #30. Peça um valor em reais ao usuário e verifique se ele é suficiente para comprar um produto que custa R$200,00. Exiba uma mensagem com a resposta."
      ],
      "metadata": {
        "id": "Togf3ATuUvGy"
      }
    },
    {
      "cell_type": "code",
      "source": [
        "valor = float(input('Digite o valor em reais: '))\n",
        "if valor >= 200:\n",
        "  print(f'Você pode comprar o produto.')\n",
        "else:\n",
        "  print(f'Você não pode comprar o produto.')"
      ],
      "metadata": {
        "colab": {
          "base_uri": "https://localhost:8080/"
        },
        "id": "_Qo-KhIkU0wm",
        "outputId": "5838eb1c-bd02-4d23-a2ec-268f7d637a42"
      },
      "execution_count": null,
      "outputs": [
        {
          "output_type": "stream",
          "name": "stdout",
          "text": [
            "Digite o valor em reais: 195\n",
            "Você não pode comprar o produto.\n"
          ]
        }
      ]
    }
  ]
}