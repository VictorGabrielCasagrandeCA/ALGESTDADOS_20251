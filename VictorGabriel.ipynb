{
  "nbformat": 4,
  "nbformat_minor": 0,
  "metadata": {
    "colab": {
      "provenance": [],
      "authorship_tag": "ABX9TyONnVHxdDGaUkTG0ogXfbyx",
      "include_colab_link": true
    },
    "kernelspec": {
      "name": "python3",
      "display_name": "Python 3"
    },
    "language_info": {
      "name": "python"
    }
  },
  "cells": [
    {
      "cell_type": "markdown",
      "metadata": {
        "id": "view-in-github",
        "colab_type": "text"
      },
      "source": [
        "<a href=\"https://colab.research.google.com/github/VictorGabrielCasagrandeCA/ALGESTDADOS_20251/blob/main/VictorGabriel.ipynb\" target=\"_parent\"><img src=\"https://colab.research.google.com/assets/colab-badge.svg\" alt=\"Open In Colab\"/></a>"
      ]
    },
    {
      "cell_type": "code",
      "execution_count": null,
      "metadata": {
        "id": "e31-KwWmafy0",
        "colab": {
          "base_uri": "https://localhost:8080/"
        },
        "outputId": "ea5ff6fa-b3d3-4cb7-ff70-d0612514845e"
      },
      "outputs": [
        {
          "output_type": "stream",
          "name": "stdout",
          "text": [
            "444\n"
          ]
        }
      ],
      "source": [
        "x = 321\n",
        "y= 123\n",
        "resultado = x + y\n",
        "print (resultado)\n",
        "\n"
      ]
    },
    {
      "cell_type": "code",
      "source": [
        "\n"
      ],
      "metadata": {
        "id": "1mklyKm5cGV4"
      },
      "execution_count": null,
      "outputs": []
    }
  ]
}