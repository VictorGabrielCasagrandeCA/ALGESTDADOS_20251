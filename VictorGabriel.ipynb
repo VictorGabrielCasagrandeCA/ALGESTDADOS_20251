{
  "nbformat": 4,
  "nbformat_minor": 0,
  "metadata": {
    "colab": {
      "provenance": [],
      "authorship_tag": "ABX9TyPAYMR6huPAfG03Qx9hc+Cr",
      "include_colab_link": true
    },
    "kernelspec": {
      "name": "python3",
      "display_name": "Python 3"
    },
    "language_info": {
      "name": "python"
    }
  },
  "cells": [
    {
      "cell_type": "markdown",
      "metadata": {
        "id": "view-in-github",
        "colab_type": "text"
      },
      "source": [
        "<a href=\"https://colab.research.google.com/github/VictorGabrielCasagrandeCA/ALGESTDADOS_20251/blob/main/VictorGabriel.ipynb\" target=\"_parent\"><img src=\"https://colab.research.google.com/assets/colab-badge.svg\" alt=\"Open In Colab\"/></a>"
      ]
    },
    {
      "cell_type": "code",
      "execution_count": null,
      "metadata": {
        "id": "e31-KwWmafy0",
        "colab": {
          "base_uri": "https://localhost:8080/"
        },
        "outputId": "ea5ff6fa-b3d3-4cb7-ff70-d0612514845e"
      },
      "outputs": [
        {
          "output_type": "stream",
          "name": "stdout",
          "text": [
            "444\n"
          ]
        }
      ],
      "source": [
        "x = 321\n",
        "y= 123\n",
        "resultado = x + y\n",
        "print (resultado)\n",
        "\n"
      ]
    },
    {
      "cell_type": "code",
      "source": [
        "peso= float(input('digite o seu peso'))\n",
        "altura= float(input('digite sua altura'))\n",
        "imc = peso/(altura*altura)\n",
        "print(imc)\n",
        "\n",
        "\n"
      ],
      "metadata": {
        "colab": {
          "base_uri": "https://localhost:8080/"
        },
        "id": "1mklyKm5cGV4",
        "outputId": "107330ee-cf8e-4c79-9dab-7f6f602aa5e1"
      },
      "execution_count": 1,
      "outputs": [
        {
          "output_type": "stream",
          "name": "stdout",
          "text": [
            "digite o seu peso68\n",
            "digite sua altura1.81\n",
            "20.756387167668876\n"
          ]
        }
      ]
    },
    {
      "cell_type": "code",
      "source": [
        "from datetime import datetime\n",
        "\n",
        "nome = input('Digite seu nome:')\n",
        "cidade = input('digite sua cidade:')\n",
        "data_nasc = input('quando você nasceu? (DD/MM/YYYY)')\n",
        "data_conv = datetime.strptime(data_nasc,'%d/%m/%Y')\n",
        "hoje = datetime.now()\n",
        "idade = (hoje - data_conv).days // 365\n",
        "print(f' Seu nome é {nome} , Sua cidade é {cidade} e sua idade é {idade} anos')\n",
        "\n",
        "\n"
      ],
      "metadata": {
        "colab": {
          "base_uri": "https://localhost:8080/"
        },
        "id": "KDfen48wBU5p",
        "outputId": "a3713182-d83d-4062-ce34-e949d44aaf7b"
      },
      "execution_count": 15,
      "outputs": [
        {
          "output_type": "stream",
          "name": "stdout",
          "text": [
            "Digite seu nome:victor\n",
            "digite sua cidade:ecoporanga\n",
            "quando você nasceu? (DD/MM/YYYY)07/10/2006\n",
            " Seu nome é victor , Sua cidade é ecoporanga e sua idade é 18 anos\n"
          ]
        }
      ]
    }
  ]
}