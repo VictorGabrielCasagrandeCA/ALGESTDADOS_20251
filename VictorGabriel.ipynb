{
  "nbformat": 4,
  "nbformat_minor": 0,
  "metadata": {
    "colab": {
      "provenance": [],
      "authorship_tag": "ABX9TyMAMONEIrNnUSL3jCzb42Xl",
      "include_colab_link": true
    },
    "kernelspec": {
      "name": "python3",
      "display_name": "Python 3"
    },
    "language_info": {
      "name": "python"
    }
  },
  "cells": [
    {
      "cell_type": "markdown",
      "metadata": {
        "id": "view-in-github",
        "colab_type": "text"
      },
      "source": [
        "<a href=\"https://colab.research.google.com/github/VictorGabrielCasagrandeCA/ALGESTDADOS_20251/blob/main/VictorGabriel.ipynb\" target=\"_parent\"><img src=\"https://colab.research.google.com/assets/colab-badge.svg\" alt=\"Open In Colab\"/></a>"
      ]
    },
    {
      "cell_type": "code",
      "execution_count": null,
      "metadata": {
        "id": "e31-KwWmafy0",
        "colab": {
          "base_uri": "https://localhost:8080/"
        },
        "outputId": "ea5ff6fa-b3d3-4cb7-ff70-d0612514845e"
      },
      "outputs": [
        {
          "output_type": "stream",
          "name": "stdout",
          "text": [
            "444\n"
          ]
        }
      ],
      "source": [
        "x = 321\n",
        "y= 123\n",
        "resultado = x + y\n",
        "print (resultado)\n",
        "\n"
      ]
    },
    {
      "cell_type": "code",
      "source": [
        "peso= float(input('digite o seu peso'))\n",
        "altura= float(input('digite sua altura'))\n",
        "imc = peso/(altura*altura)\n",
        "print(imc)\n",
        "\n"
      ],
      "metadata": {
        "colab": {
          "base_uri": "https://localhost:8080/"
        },
        "id": "1mklyKm5cGV4",
        "outputId": "1f3d4f8a-8c7c-4579-f0e0-50a9f93b86e9"
      },
      "execution_count": 28,
      "outputs": [
        {
          "output_type": "stream",
          "name": "stdout",
          "text": [
            "digite o seu peso65\n",
            "digite sua altura1.81\n",
            "19.840664204389366\n"
          ]
        }
      ]
    },
    {
      "cell_type": "code",
      "source": [
        "\n",
        "\n"
      ],
      "metadata": {
        "colab": {
          "base_uri": "https://localhost:8080/",
          "height": 106
        },
        "id": "KDfen48wBU5p",
        "outputId": "70fa733a-ae8e-4cdc-a5c2-4f5d250f0012"
      },
      "execution_count": 27,
      "outputs": [
        {
          "output_type": "error",
          "ename": "SyntaxError",
          "evalue": "unterminated string literal (detected at line 3) (<ipython-input-27-4f4a5483247d>, line 3)",
          "traceback": [
            "\u001b[0;36m  File \u001b[0;32m\"<ipython-input-27-4f4a5483247d>\"\u001b[0;36m, line \u001b[0;32m3\u001b[0m\n\u001b[0;31m    print ('oi victor)\u001b[0m\n\u001b[0m           ^\u001b[0m\n\u001b[0;31mSyntaxError\u001b[0m\u001b[0;31m:\u001b[0m unterminated string literal (detected at line 3)\n"
          ]
        }
      ]
    }
  ]
}