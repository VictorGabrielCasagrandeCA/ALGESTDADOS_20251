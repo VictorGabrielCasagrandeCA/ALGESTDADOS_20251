{
  "nbformat": 4,
  "nbformat_minor": 0,
  "metadata": {
    "colab": {
      "provenance": [],
      "authorship_tag": "ABX9TyP/rvE2zyLrOdKhxuM18Nfb",
      "include_colab_link": true
    },
    "kernelspec": {
      "name": "python3",
      "display_name": "Python 3"
    },
    "language_info": {
      "name": "python"
    }
  },
  "cells": [
    {
      "cell_type": "markdown",
      "metadata": {
        "id": "view-in-github",
        "colab_type": "text"
      },
      "source": [
        "<a href=\"https://colab.research.google.com/github/VictorGabrielCasagrandeCA/ALGESTDADOS_20251/blob/main/Lista_de_exerc%C3%ADcios_III.ipynb\" target=\"_parent\"><img src=\"https://colab.research.google.com/assets/colab-badge.svg\" alt=\"Open In Colab\"/></a>"
      ]
    },
    {
      "cell_type": "markdown",
      "source": [
        "Victor Gabriel 1-15 // João Vitor 16-30\n"
      ],
      "metadata": {
        "id": "0hl0JRD7dlfZ"
      }
    },
    {
      "cell_type": "code",
      "source": [
        "#1\n",
        "l = []\n",
        "for i in range(15):\n",
        "    num = int(input())\n",
        "    l.append(num)\n",
        "l2 = []\n",
        "for num in l:\n",
        "    if num not in l2:\n",
        "        l2.append(num)\n",
        "print(l2)"
      ],
      "metadata": {
        "colab": {
          "base_uri": "https://localhost:8080/"
        },
        "id": "c1-vPs1Ad1lJ",
        "outputId": "8b78df01-8e58-4e68-d377-232e85909f0f"
      },
      "execution_count": null,
      "outputs": [
        {
          "output_type": "stream",
          "name": "stdout",
          "text": [
            "1\n",
            "2\n",
            "3\n",
            "4\n",
            "5\n",
            "5\n",
            "1\n",
            "2\n",
            "3\n",
            "4\n",
            "6\n",
            "5\n",
            "4\n",
            "1\n",
            "10\n",
            "[1, 2, 3, 4, 5, 6, 10]\n"
          ]
        }
      ]
    },
    {
      "cell_type": "code",
      "source": [
        "#2\n",
        "n = []\n",
        "i = []\n",
        "for _ in range(10):\n",
        "    n.append(input())\n",
        "    i.append(int(input()))\n",
        "m = max(i)\n",
        "p = i.index(m)\n",
        "print ('maior idade é:')\n",
        "print(n[p])"
      ],
      "metadata": {
        "colab": {
          "base_uri": "https://localhost:8080/"
        },
        "id": "lP_QQ_pqh1Qu",
        "outputId": "cb0f78a6-745f-424e-ccaa-0cba4d0c2a7d"
      },
      "execution_count": null,
      "outputs": [
        {
          "output_type": "stream",
          "name": "stdout",
          "text": [
            "o\n",
            "1\n",
            "victor \n",
            "18\n",
            "i\n",
            "2\n",
            "p\n",
            "3\n",
            "l\n",
            "4\n",
            "i\n",
            "5\n",
            "negativo\n",
            "-99\n",
            "ç\n",
            "5\n",
            "sim\n",
            "1\n",
            "nao\n",
            "1\n",
            "maior idade é:\n",
            "victor \n"
          ]
        }
      ]
    },
    {
      "cell_type": "code",
      "source": [
        "#3\n",
        "l = []\n",
        "for _ in range(10):\n",
        "    l.append(int(input()))\n",
        "for i in range(10):\n",
        "    l[i] = l[i] / 3 if l[i] % 2 else l[i] / 2\n",
        "print ('dividindo os números: ')\n",
        "print(l)"
      ],
      "metadata": {
        "colab": {
          "base_uri": "https://localhost:8080/"
        },
        "id": "FThKd3NJi2K1",
        "outputId": "5fba55dc-9e7c-4e9a-9a31-fceaeb668347"
      },
      "execution_count": null,
      "outputs": [
        {
          "output_type": "stream",
          "name": "stdout",
          "text": [
            "1\n",
            "2\n",
            "3\n",
            "4\n",
            "5\n",
            "6\n",
            "7\n",
            "8\n",
            "9\n",
            "10\n",
            "dividindo os números: \n",
            "[0.3333333333333333, 1.0, 1.0, 2.0, 1.6666666666666667, 3.0, 2.3333333333333335, 4.0, 3.0, 5.0]\n"
          ]
        }
      ]
    },
    {
      "cell_type": "code",
      "source": [
        "#4\n",
        "f = input().split()\n",
        "v = ['a', 'e', 'i', 'o', 'u']\n",
        "r = [p for p in f if p[0].lower() in v]\n",
        "print('as palavras que começam com vogal: ')\n",
        "print(r)"
      ],
      "metadata": {
        "colab": {
          "base_uri": "https://localhost:8080/"
        },
        "id": "HWcIhfcijZ5n",
        "outputId": "105469ce-55b5-48af-cec1-7e5d60b37495"
      },
      "execution_count": null,
      "outputs": [
        {
          "output_type": "stream",
          "name": "stdout",
          "text": [
            "essa é a questão 4\n",
            "as palavras que começam com vogal: \n",
            "['essa', 'a']\n"
          ]
        }
      ]
    },
    {
      "cell_type": "code",
      "source": [
        "#5\n",
        "l = []\n",
        "for _ in range(10):\n",
        "    l.append(int(input()))\n",
        "p = []\n",
        "for n in l:\n",
        "    if n > 1:\n",
        "        eh = True\n",
        "        for d in range(2, int(n**0.5)+1):\n",
        "            if n % d == 0:\n",
        "                eh = False\n",
        "                break\n",
        "        if eh:\n",
        "            p.append(n)\n",
        "print('os numeros primos: ')\n",
        "print(p)"
      ],
      "metadata": {
        "colab": {
          "base_uri": "https://localhost:8080/"
        },
        "id": "6gKTMX31ktTm",
        "outputId": "ac166cab-86fa-4ade-c41e-4e7871cf49d6"
      },
      "execution_count": null,
      "outputs": [
        {
          "output_type": "stream",
          "name": "stdout",
          "text": [
            "1\n",
            "2\n",
            "3\n",
            "4\n",
            "5\n",
            "6\n",
            "7\n",
            "8\n",
            "9\n",
            "10\n",
            "os numeros primos: \n",
            "[2, 3, 5, 7]\n"
          ]
        }
      ]
    },
    {
      "cell_type": "code",
      "source": [
        "#6\n",
        "l = []\n",
        "for i in range(8):\n",
        "    l.append(input())\n",
        "print('é palindroma? ')\n",
        "print(l == l[::-1])"
      ],
      "metadata": {
        "id": "9mokXgDpk6_4",
        "colab": {
          "base_uri": "https://localhost:8080/"
        },
        "outputId": "0fdd8126-66d2-4b95-f458-2121e1537c0a"
      },
      "execution_count": 2,
      "outputs": [
        {
          "output_type": "stream",
          "name": "stdout",
          "text": [
            "1\n",
            "2\n",
            "1\n",
            "1\n",
            "2\n",
            "1\n",
            "2\n",
            "1\n",
            "é palindroma? \n",
            "False\n"
          ]
        }
      ]
    },
    {
      "cell_type": "code",
      "source": [
        "#7\n",
        "print('os 8 primeiros numeros é da lista a e os 8 ultimos da lista b ')\n",
        "a = []\n",
        "b = []\n",
        "for i in range(10):\n",
        "    a.append(int(input()))\n",
        "for i in range(10):\n",
        "    b.append(int(input()))\n",
        "c = []\n",
        "for n in a:\n",
        "    if n in b and n not in c:\n",
        "        c.append(n)\n",
        "print(\"a interseção é: \")\n",
        "print(c)"
      ],
      "metadata": {
        "colab": {
          "base_uri": "https://localhost:8080/"
        },
        "id": "Tw0lpFg-m7LT",
        "outputId": "667cba5d-f977-4e70-d01e-452c9cb4a136"
      },
      "execution_count": 4,
      "outputs": [
        {
          "output_type": "stream",
          "name": "stdout",
          "text": [
            "os 8 primeiros numeros é da lista a e os 8 ultimos da lista b \n",
            "1\n",
            "2\n",
            "3\n",
            "4\n",
            "5\n",
            "6\n",
            "7\n",
            "8\n",
            "0\n",
            "9\n",
            "8\n",
            "6\n",
            "5\n",
            "4\n",
            "3\n",
            "2\n",
            "1\n",
            "33\n",
            "44\n",
            "55\n",
            "a interseção é: \n",
            "[1, 2, 3, 4, 5, 6, 8]\n"
          ]
        }
      ]
    },
    {
      "cell_type": "code",
      "source": [
        "#8\n",
        "l = []\n",
        "while len(l) < 6:\n",
        "    n = int(input())\n",
        "    if 1 <= n <= 60 and n not in l:\n",
        "        l.append(n)7\n",
        "print('os numeros sorteados: ')\n",
        "print(l)"
      ],
      "metadata": {
        "colab": {
          "base_uri": "https://localhost:8080/"
        },
        "id": "fDdH7qYIoHp2",
        "outputId": "59605478-86b6-4006-d52e-4c6a220d7be9"
      },
      "execution_count": 7,
      "outputs": [
        {
          "output_type": "stream",
          "name": "stdout",
          "text": [
            "2\n",
            "2\n",
            "2\n",
            "1\n",
            "3\n",
            "4\n",
            "5\n",
            "6\n",
            "os numeros sorteados: \n",
            "[2, 1, 3, 4, 5, 6]\n"
          ]
        }
      ]
    },
    {
      "cell_type": "code",
      "source": [
        "#9\n",
        "o = []\n",
        "for i in range(10):\n",
        "    o.append(int(input()))\n",
        "n = []\n",
        "s = 0\n",
        "for x in o:\n",
        "    n.append(s)\n",
        "    s += x\n",
        "print('a somas de todos os items anteriores: ')\n",
        "print(n)"
      ],
      "metadata": {
        "colab": {
          "base_uri": "https://localhost:8080/"
        },
        "id": "-PU_bRY_pgsT",
        "outputId": "a3cf988f-1e16-475f-ec0c-b9e56f8d8e72"
      },
      "execution_count": 8,
      "outputs": [
        {
          "output_type": "stream",
          "name": "stdout",
          "text": [
            "1\n",
            "2\n",
            "3\n",
            "4\n",
            "5\n",
            "7\n",
            "6\n",
            "8\n",
            "9\n",
            "10\n",
            "a somas de todos os items anteriores: \n",
            "[0, 1, 3, 6, 10, 15, 22, 28, 36, 45]\n"
          ]
        }
      ]
    },
    {
      "cell_type": "code",
      "source": [
        "#10\n",
        "l = []\n",
        "for i in range(10):\n",
        "    l.append(input())\n",
        "l = [n for n in l if len(n) <= 10]\n",
        "print('a frase sem palavras com mais de 10 caracteres: ')\n",
        "print(l)"
      ],
      "metadata": {
        "colab": {
          "base_uri": "https://localhost:8080/"
        },
        "id": "lGzW2nG0qrAq",
        "outputId": "3cac1f4a-9f0c-4d4f-e716-d30987fc945a"
      },
      "execution_count": 12,
      "outputs": [
        {
          "output_type": "stream",
          "name": "stdout",
          "text": [
            "ele\n",
            "é\n",
            "otorrinolaringologista\n",
            "médico\n",
            "de \n",
            "plantão\n",
            "das\n",
            "seis\n",
            "a\n",
            "seis\n",
            "a frase sem palavras com mais de 10 caracteres: \n",
            "['ele', 'é', 'médico', 'de ', 'plantão', 'das', 'seis', 'a', 'seis']\n"
          ]
        }
      ]
    },
    {
      "cell_type": "code",
      "source": [
        "#11\n",
        "m = []\n",
        "for i in range(4):\n",
        "    linha = []\n",
        "    for j in range(4):\n",
        "        linha.append(int(input()))\n",
        "    m.append(linha)\n",
        "s = 0\n",
        "for i in range(4):\n",
        "    s += m[i][3 - i]\n",
        "print('a soma da diagonal: ')\n",
        "print(s)"
      ],
      "metadata": {
        "colab": {
          "base_uri": "https://localhost:8080/"
        },
        "id": "t7VJW_CBr2Db",
        "outputId": "e73e9008-7bf1-4cf6-a30e-cbf58348b9fa"
      },
      "execution_count": 16,
      "outputs": [
        {
          "output_type": "stream",
          "name": "stdout",
          "text": [
            "1\n",
            "1\n",
            "1\n",
            "1\n",
            "1\n",
            "1\n",
            "1\n",
            "1\n",
            "1\n",
            "1\n",
            "1\n",
            "1\n",
            "1\n",
            "1\n",
            "1\n",
            "1\n",
            "a soma da diagonal: \n",
            "4\n"
          ]
        }
      ]
    },
    {
      "cell_type": "code",
      "source": [
        "#12\n",
        "m = []\n",
        "for i in range(5):\n",
        "    l = []\n",
        "    for j in range(5):\n",
        "        l.append(int(input()))\n",
        "    m.append(l)\n",
        "r = [sum(l)/5 for l in m]\n",
        "for l in m:\n",
        "    print(l)\n",
        "print('a media: ')\n",
        "print(r)"
      ],
      "metadata": {
        "colab": {
          "base_uri": "https://localhost:8080/"
        },
        "id": "VIn_63ersbel",
        "outputId": "fe8a092c-4c25-48ab-e95f-a517e3ca4b54"
      },
      "execution_count": 22,
      "outputs": [
        {
          "output_type": "stream",
          "name": "stdout",
          "text": [
            "10\n",
            "20\n",
            "30\n",
            "40\n",
            "50\n",
            "60\n",
            "70\n",
            "80\n",
            "90\n",
            "10\n",
            "20\n",
            "30\n",
            "40\n",
            "50\n",
            "60\n",
            "70\n",
            "80\n",
            "90\n",
            "10\n",
            "20\n",
            "30\n",
            "40\n",
            "50\n",
            "60\n",
            "70\n",
            "[10, 20, 30, 40, 50]\n",
            "[60, 70, 80, 90, 10]\n",
            "[20, 30, 40, 50, 60]\n",
            "[70, 80, 90, 10, 20]\n",
            "[30, 40, 50, 60, 70]\n",
            "a media: \n",
            "[30.0, 62.0, 40.0, 54.0, 50.0]\n"
          ]
        }
      ]
    },
    {
      "cell_type": "code",
      "source": [
        "#13\n",
        "m = []\n",
        "for i in range(3):\n",
        "    l = []\n",
        "    for j in range(3):\n",
        "        l.append(int(input()))\n",
        "    m.append(l)\n",
        "id = True\n",
        "for i in range(3):\n",
        "    for j in range(3):\n",
        "        if (i == j and m[i][j] != 1) or (i != j and m[i][j] != 0):\n",
        "            id = False\n",
        "            break\n",
        "for l in m:\n",
        "    print(l)\n",
        "print(id)"
      ],
      "metadata": {
        "colab": {
          "base_uri": "https://localhost:8080/"
        },
        "id": "ScLFrgxUux2_",
        "outputId": "9cf21333-7a00-482d-a72c-66ebda6a1e83"
      },
      "execution_count": 28,
      "outputs": [
        {
          "output_type": "stream",
          "name": "stdout",
          "text": [
            "1\n",
            "0\n",
            "0\n",
            "0\n",
            "1\n",
            "0\n",
            "0\n",
            "0\n",
            "1\n",
            "[1, 0, 0]\n",
            "[0, 1, 0]\n",
            "[0, 0, 1]\n",
            "True\n"
          ]
        }
      ]
    },
    {
      "cell_type": "code",
      "source": [
        "#14\n",
        "m = []\n",
        "for i in range(3):\n",
        "    l = []\n",
        "    for j in range(3):\n",
        "        l.append(int(input()))\n",
        "    m.append(l)\n",
        "s = True\n",
        "for i in range(3):\n",
        "    for j in range(3):\n",
        "        if m[i][j] != m[j][i]:\n",
        "            s = False\n",
        "            break\n",
        "print('é simetrica?? ')\n",
        "print(s)"
      ],
      "metadata": {
        "colab": {
          "base_uri": "https://localhost:8080/"
        },
        "id": "428S-9PUwYIW",
        "outputId": "8223d3f9-0a97-4bef-c39f-be966a8d52c1"
      },
      "execution_count": 29,
      "outputs": [
        {
          "output_type": "stream",
          "name": "stdout",
          "text": [
            "1\n",
            "1\n",
            "1\n",
            "1\n",
            "1\n",
            "1\n",
            "1\n",
            "1\n",
            "1\n",
            "é simetrica?? \n",
            "True\n"
          ]
        }
      ]
    },
    {
      "cell_type": "code",
      "source": [
        "#15\n",
        "m = []\n",
        "for i in range(5):\n",
        "    l = []\n",
        "    for j in range(3):\n",
        "        l.append(i * j)\n",
        "    m.append(l)\n",
        "for l in m:\n",
        "    print(l)"
      ],
      "metadata": {
        "colab": {
          "base_uri": "https://localhost:8080/"
        },
        "id": "MpLEzwZIwy-N",
        "outputId": "87dd51ab-08ef-4d2e-97c7-f32b9d2e1649"
      },
      "execution_count": 32,
      "outputs": [
        {
          "output_type": "stream",
          "name": "stdout",
          "text": [
            "[0, 0, 0]\n",
            "[0, 1, 2]\n",
            "[0, 2, 4]\n",
            "[0, 3, 6]\n",
            "[0, 4, 8]\n"
          ]
        }
      ]
    }
  ]
}