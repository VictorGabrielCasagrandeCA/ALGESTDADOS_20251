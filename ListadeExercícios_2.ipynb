{
  "nbformat": 4,
  "nbformat_minor": 0,
  "metadata": {
    "colab": {
      "provenance": [],
      "include_colab_link": true
    },
    "kernelspec": {
      "name": "python3",
      "display_name": "Python 3"
    },
    "language_info": {
      "name": "python"
    }
  },
  "cells": [
    {
      "cell_type": "markdown",
      "metadata": {
        "id": "view-in-github",
        "colab_type": "text"
      },
      "source": [
        "<a href=\"https://colab.research.google.com/github/VictorGabrielCasagrandeCA/ALGESTDADOS_20251/blob/main/ListadeExerc%C3%ADcios_2.ipynb\" target=\"_parent\"><img src=\"https://colab.research.google.com/assets/colab-badge.svg\" alt=\"Open In Colab\"/></a>"
      ]
    },
    {
      "cell_type": "markdown",
      "source": [
        "Lista de Exercicios 2:\n",
        "Victor Gabriel; João Vitor."
      ],
      "metadata": {
        "id": "OGkwD8vjsl22"
      }
    },
    {
      "cell_type": "code",
      "execution_count": 1,
      "metadata": {
        "id": "OLJmi7q0sS8T",
        "colab": {
          "base_uri": "https://localhost:8080/"
        },
        "outputId": "42467b00-a8c4-4be2-c9ba-ed2463a27d60"
      },
      "outputs": [
        {
          "output_type": "stream",
          "name": "stdout",
          "text": [
            "hora entrada: 5\n",
            "minuto entrada: 30\n",
            "hora saida: 21\n",
            "minuto saida: 59\n",
            "trabalhou 15 h 29 min\n",
            "Jornada de 8h cumprida \n"
          ]
        }
      ],
      "source": [
        "#1\n",
        "eh = int(input(\"hora entrada: \"))\n",
        "em = int(input(\"minuto entrada: \"))\n",
        "sh = int(input(\"hora saida: \"))\n",
        "sm = int(input(\"minuto saida: \"))\n",
        "entrada = eh * 60 + em\n",
        "saida = sh * 60 + sm\n",
        "total = saida - entrada - 60\n",
        "if total < 0:\n",
        "    print(\"horario não valido\")\n",
        "else:\n",
        "    h = total // 60\n",
        "    m = total % 60\n",
        "    print(\"trabalhou\", h, \"h\", m, \"min\")\n",
        "    if total >= 480:\n",
        "        print(\"Jornada de 8h cumprida \")\n",
        "    else:\n",
        "        print(\"Jornada de 8h nao cumprida \")\n"
      ]
    },
    {
      "cell_type": "code",
      "source": [
        "#2\n",
        "nd = int(input(\"dia nascimento: \"))\n",
        "nm = int(input(\"mes nascimento: \"))\n",
        "na = int(input(\"ano nascimento: \"))\n",
        "ad = int(input(\"dia atual: \"))\n",
        "am = int(input(\"mes atual: \"))\n",
        "aa = int(input(\"ano atual: \"))\n",
        "anos = aa - na\n",
        "meses = am - nm\n",
        "dias = ad - nd\n",
        "if dias < 0:\n",
        "    meses = meses - 1\n",
        "    dias = dias + 30\n",
        "if meses < 0:\n",
        "    anos = anos - 1\n",
        "    meses = meses + 12\n",
        "print(\"Idade:\", anos, \"anos,\", meses, \"meses e\", dias, \"dias.\")\n"
      ],
      "metadata": {
        "id": "JjeHCcpVs0PN",
        "colab": {
          "base_uri": "https://localhost:8080/"
        },
        "outputId": "f1b7541a-dd4f-404e-f2cd-bebc98d10129"
      },
      "execution_count": 2,
      "outputs": [
        {
          "output_type": "stream",
          "name": "stdout",
          "text": [
            "dia nascimento: 07\n",
            "mes nascimento: 10\n",
            "ano nascimento: 2006\n",
            "dia atual: 08\n",
            "mes atual: 05\n",
            "ano atual: 2025\n",
            "Idade: 18 anos, 7 meses e 1 dias.\n"
          ]
        }
      ]
    },
    {
      "cell_type": "code",
      "source": [
        "#3\n",
        "s = 0\n",
        "i = 1\n",
        "while i <= 3:\n",
        "    v = float(input(\"d1igite o índice de poluentes #\" + str(i) + \": \"))\n",
        "    s = s + v\n",
        "    i = i + 1\n",
        "media = s / 3\n",
        "print(\"media dos indices:\", media)\n",
        "if media <= 50:\n",
        "    print(\"qualidade do ar BOM\")\n",
        "elif media <= 100:\n",
        "    print(\"qualidade do ar MODERADO\")\n",
        "elif media <= 150:\n",
        "    print(\"qualidade do ar RUIM\")\n",
        "elif media <= 200:\n",
        "    print(\"qualidade do ar MUITO RUIM\")\n",
        "else:\n",
        "    print(\"qualidade do ar PESSIMO\")\n"
      ],
      "metadata": {
        "id": "5-hjHBazs1XN",
        "colab": {
          "base_uri": "https://localhost:8080/"
        },
        "outputId": "f1365421-c9bd-4e0c-a2f2-af159f463ff7"
      },
      "execution_count": 14,
      "outputs": [
        {
          "output_type": "stream",
          "name": "stdout",
          "text": [
            "digite o índice de poluentes #1: 33\n",
            "digite o índice de poluentes #2: 77\n",
            "digite o índice de poluentes #3: 1\n",
            "media dos indices: 37.0\n",
            "qualidade do ar BOM\n"
          ]
        }
      ]
    },
    {
      "cell_type": "code",
      "source": [
        "#4\n",
        "r = \"s\"\n",
        "while r == \"s\":\n",
        "    v = float(input(\"valor abastecido\"))\n",
        "    p = float(input(\"preco por litro: \"))\n",
        "    ki = float(input(\"km inicial: \"))\n",
        "    kf = float(input(\"km final: \"))\n",
        "    l = v / p\n",
        "    d = kf - ki\n",
        "    if d <= 0 or l <= 0:\n",
        "        print(\"erro.\")\n",
        "    else:\n",
        "        m = d / l\n",
        "        print(\"litros\", round(l,2), \"km:\", round(d,2), \"media\", round(m,2), \"km/l\")\n",
        "        if m > 12:\n",
        "            print(\"desempenho bom\")\n",
        "        elif m >= 8:\n",
        "            print(\"desempenho medio\")\n",
        "        else:\n",
        "            print(\"desempenho ruim\")\n",
        "        r = input(\"outro? (s/n): \")"
      ],
      "metadata": {
        "id": "2m_DxBPSs3R1",
        "colab": {
          "base_uri": "https://localhost:8080/"
        },
        "outputId": "6550e581-4a5e-40d8-d16c-6ff5b8fe4b30"
      },
      "execution_count": 16,
      "outputs": [
        {
          "name": "stdout",
          "output_type": "stream",
          "text": [
            "valor abastecido90\n",
            "preco por litro: 7\n",
            "km inicial: 0\n",
            "km final: 100\n",
            "litros 12.86 km: 100.0 media 7.78 km/l\n",
            "desempenho ruim\n",
            "outro? (s/n): n\n"
          ]
        }
      ]
    },
    {
      "cell_type": "code",
      "source": [
        "#5\n",
        "n = input('qual o seu nome? ')\n",
        "d1 = int(input('quanto tempo de academia no dia 1?'))\n",
        "d2 = int(input('quanto tempo de academia no dia 2?'))\n",
        "d3 = int(input('quanto tempo de academia no dia 3?'))\n",
        "d4 = int(input('quanto tempo de academia no dia 4?'))\n",
        "d5 = int(input('quanto tempo de academia no dia 5?'))\n",
        "d6 = int(input('quanto tempo de academia no dia 6?'))\n",
        "d7 = int(input('quanto tempo de academia no dia 7?'))\n",
        "print (f\"{n}\")\n",
        "md = (d1+d2+d3+d4+d5+d6+d7)/7\n",
        "smt= d1+d2+d3+d4+d5+d6+d7\n",
        "if smt >= 150:\n",
        "  print('Treinou o recomendado')\n",
        "else:\n",
        "  print(\"não treinou o recomendado\")\n",
        "print(f\"a media na semanda foi {md}\")\n",
        "print(f\"o total treinado foi {smt}\")"
      ],
      "metadata": {
        "colab": {
          "base_uri": "https://localhost:8080/"
        },
        "id": "k9W4ElK5pysh",
        "outputId": "3e68da19-9ca4-469e-a7fd-db85595a2882"
      },
      "execution_count": 21,
      "outputs": [
        {
          "output_type": "stream",
          "name": "stdout",
          "text": [
            "qual o seu nome? Victor\n",
            "quanto tempo de academia no dia 1?60\n",
            "quanto tempo de academia no dia 2?60\n",
            "quanto tempo de academia no dia 3?60\n",
            "quanto tempo de academia no dia 4?60\n",
            "quanto tempo de academia no dia 5?20\n",
            "quanto tempo de academia no dia 6?0\n",
            "quanto tempo de academia no dia 7?0\n",
            "Victor\n",
            "Treinou o recomendado\n",
            "a media na semanda foi 37.142857142857146\n",
            "o total treinado foi 260\n"
          ]
        }
      ]
    },
    {
      "cell_type": "code",
      "source": [
        "#6\n",
        "i = float(input(\"valor do hidrometro no início do mes: \"))\n",
        "f = float(input(\"valor do hidrometro no fim do mes: \"))\n",
        "c = f - i\n",
        "if c < 0:\n",
        "  print(\"Erro. Nada foi gasto\")\n",
        "else:\n",
        "  if c <= 10:\n",
        "    v = c * 5\n",
        "  elif c <= 20:\n",
        "    v = 10 * 5 + (c - 10) * 7\n",
        "  else:\n",
        "    v = 10 * 5 + 10 * 7 + (c - 20) * 10\n",
        "print(f\"consumo: {c} \")\n",
        "print(f\"valor a pagar: {v:.2f}\")"
      ],
      "metadata": {
        "id": "QNkaz57ps4TN",
        "colab": {
          "base_uri": "https://localhost:8080/"
        },
        "outputId": "01a27d53-1ba0-4e5a-d307-4d18d2eb51ed"
      },
      "execution_count": 39,
      "outputs": [
        {
          "output_type": "stream",
          "name": "stdout",
          "text": [
            "valor do hidrometro no início do mes: 100\n",
            "valor do hidrometro no fim do mes: 120\n",
            "consumo: 20.0 \n",
            "valor a pagar: 120.00\n"
          ]
        }
      ]
    },
    {
      "cell_type": "code",
      "source": [
        "#7\n",
        "r = \"s\"\n",
        "while r == \"s\":\n",
        "    hp, mp = map(int, input(\"digite a hora prevista de chegada (hh:mm): \").split(\":\"))\n",
        "    hr, mr = map(int, input(\"digite a hora real de chegada (hh:mm): \").split(\":\"))\n",
        "    p = hp * 60 + mp\n",
        "    r = hr * 60 + mr\n",
        "    d = r - p\n",
        "    if d == 0:\n",
        "        print(\"voo pontual.\")\n",
        "    elif -5 <= d <= 5:\n",
        "        print(f\"voo pontual (diferença de {d} min).\")\n",
        "    elif -30 <= d < -5 or 5 < d <= 30:\n",
        "        print(f\"voo ligeiramente {'adiantado' if d < 0 else 'atrasado'} (diferença de {abs(d)} min).\")\n",
        "    else:\n",
        "        print(f\"voo muito {'adiantado' if d < 0 else 'atrasado'} (diferença de {abs(d)} min).\")"
      ],
      "metadata": {
        "id": "lC6MQXies5c1",
        "colab": {
          "base_uri": "https://localhost:8080/"
        },
        "outputId": "ff146326-884f-454c-e511-1828a291815f"
      },
      "execution_count": 42,
      "outputs": [
        {
          "output_type": "stream",
          "name": "stdout",
          "text": [
            "digite a hora prevista de chegada (hh:mm): 20:30\n",
            "digite a hora real de chegada (hh:mm): 21:00\n",
            "voo ligeiramente atrasado (diferença de 30 min).\n"
          ]
        }
      ]
    },
    {
      "cell_type": "code",
      "source": [
        "#8\n",
        "r=\"s\"\n",
        "while r==\"s\":\n",
        " ttv=tcel=tcom=0\n",
        " for d in[\"tv\",\"celular\",\"computador\"]:\n",
        "  for i in range(3):\n",
        "   h,m=map(int,input(f\"{d} dia {i+1} (hh:mm): \").split(\":\"))\n",
        "   if d==\"tv\":ttv+=h*60+m\n",
        "   elif d==\"celular\":tcel+=h*60+m\n",
        "   else:tcom+=h*60+m\n",
        " total=ttv+tcel+tcom\n",
        " h=total//60\n",
        " m=total%60\n",
        " maior=max([(\"tv\",ttv),(\"celular\",tcel),(\"computador\",tcom)],key=lambda x:x[1])\n",
        " print(f\"\\ntempo total: {h}h {m}min\")\n",
        " print(f\"maior uso: {maior[0]}\")\n",
        " if h>=10:print(\"alerta: uso passou de 10h por dia\")\n",
        " r=input(\"repetir? (s/n): \")"
      ],
      "metadata": {
        "id": "IfR0Ivbcs6sV",
        "colab": {
          "base_uri": "https://localhost:8080/"
        },
        "outputId": "5ac11d47-d677-446a-fb9e-f36be5831c85"
      },
      "execution_count": 52,
      "outputs": [
        {
          "name": "stdout",
          "output_type": "stream",
          "text": [
            "tv dia 1 (hh:mm): 00:00\n",
            "tv dia 2 (hh:mm): 00:00\n",
            "tv dia 3 (hh:mm): 00:10\n",
            "celular dia 1 (hh:mm): 00:00\n",
            "celular dia 2 (hh:mm): 00:00\n",
            "celular dia 3 (hh:mm): 00:00\n",
            "computador dia 1 (hh:mm): 00:00\n",
            "computador dia 2 (hh:mm): 00:00\n",
            "computador dia 3 (hh:mm): 00:00\n",
            "\n",
            "tempo total: 0h 10min\n",
            "maior uso: tv\n",
            "repetir? (s/n): n\n"
          ]
        }
      ]
    },
    {
      "cell_type": "code",
      "source": [
        "#9\n",
        "a=float(input(\"area em m2: \"))\n",
        "t=input(\"tipo (cenoura, alface, couve): \")\n",
        "rdm=float(input(\"rendimento por m2 (kg): \"))\n",
        "p=a*rdm\n",
        "print(f\"producao esperada: {p} kg\")\n",
        "if p>=100:print(\"suficiente para mercado local\")\n",
        "else:print(\"nao suficiente para mercado local\")"
      ],
      "metadata": {
        "id": "UTAVl4vws8Jm",
        "colab": {
          "base_uri": "https://localhost:8080/"
        },
        "outputId": "20545a45-c1da-4039-907a-8a647055f0b9"
      },
      "execution_count": 53,
      "outputs": [
        {
          "output_type": "stream",
          "name": "stdout",
          "text": [
            "area em m2: 100\n",
            "tipo (cenoura, alface, couve): couve\n",
            "rendimento por m2 (kg): 0.2\n",
            "producao esperada: 20.0 kg\n",
            "nao suficiente para mercado local\n"
          ]
        }
      ]
    },
    {
      "cell_type": "code",
      "source": [
        "#10\n",
        "p=int(input(\"quantidade de paginas: \"))\n",
        "t=int(input(\"tempo diario (min): \"))\n",
        "v=float(input(\"velocidade (pag/min): \"))\n",
        "d=p/(t*v)\n",
        "c=p/d\n",
        "print(f\"tempo estimado: {(d)} dias\")\n",
        "print(f\"meta diaria: {(c)} paginas\")"
      ],
      "metadata": {
        "id": "WUfy-C9xs9Et",
        "colab": {
          "base_uri": "https://localhost:8080/"
        },
        "outputId": "c15585ab-2c74-4a3f-a5c0-12a2be62d050"
      },
      "execution_count": 54,
      "outputs": [
        {
          "output_type": "stream",
          "name": "stdout",
          "text": [
            "quantidade de paginas: 100\n",
            "tempo diario (min): 30\n",
            "velocidade (pag/min): 1\n",
            "tempo estimado: 3.3333333333333335 dias\n",
            "meta diaria: 30.0 paginas\n"
          ]
        }
      ]
    },
    {
      "cell_type": "code",
      "source": [
        "#11\n",
        "n=int(input(\"pessoas na fila: \"))\n",
        "t=int(input(\"tempo medio por pessoa (em minutos): \"))\n",
        "e=n*t\n",
        "h=e//60\n",
        "m=e%60\n",
        "print(f\"tempo de espera: {h}h {m}min\")\n",
        "if e>60:print(\"melhor voltar depois\")\n",
        "else:print(\"pode esperar\")"
      ],
      "metadata": {
        "id": "58vlcb5zs-M9",
        "colab": {
          "base_uri": "https://localhost:8080/"
        },
        "outputId": "53e2872f-76de-42f2-9b06-999500950100"
      },
      "execution_count": 55,
      "outputs": [
        {
          "output_type": "stream",
          "name": "stdout",
          "text": [
            "pessoas na fila: 10\n",
            "tempo medio por pessoa (em minutos): 30\n",
            "tempo de espera: 5h 0min\n",
            "melhor voltar depois\n"
          ]
        }
      ]
    },
    {
      "cell_type": "code",
      "source": [
        "#12\n",
        "d=int(input(\"dia de fabricacao: \"))\n",
        "m=int(input(\"mes: \"))\n",
        "a=int(input(\"ano: \"))\n",
        "v=int(input(\"validade em dias: \"))\n",
        "from datetime import date,timedelta\n",
        "f=date(a,m,d)\n",
        "h=date.today()\n",
        "d=(f+timedelta(days=v)-h).days\n",
        "print(f\"faltam {d} dias para vencer\")\n",
        "if d<0:print(\"vermelho produto vencido\")\n",
        "elif d<10:print(\"amarelo perto do vencimento\")\n",
        "else:print(\"verde dentro da validade\")"
      ],
      "metadata": {
        "id": "cqmX9sEQtABd",
        "colab": {
          "base_uri": "https://localhost:8080/"
        },
        "outputId": "5b8a5f19-a06b-4dfe-ca17-ab6001f92a36"
      },
      "execution_count": 60,
      "outputs": [
        {
          "output_type": "stream",
          "name": "stdout",
          "text": [
            "dia de fabricacao: 10\n",
            "mes: 04\n",
            "ano: 2025\n",
            "validade em dias: 25\n",
            "faltam -3 dias para vencer\n",
            "vermelho produto vencido\n"
          ]
        }
      ]
    },
    {
      "cell_type": "code",
      "source": [
        "#13\n",
        "da, ma, aa = map(int, input(\"data atual (dd mm aaaa): \").split())\n",
        "de, me, ae = map(int, input(\"data do evento (dd mm aaaa): \").split())\n",
        "ta = aa * 365 + ma * 30 + da\n",
        "te = ae * 365 + me * 30 + de\n",
        "if ae == aa:\n",
        "    if te > ta:\n",
        "        r = te - ta\n",
        "        print(f\"faltam {r} dias para o evento\")\n",
        "    elif te == ta:\n",
        "        print(\"hoje é o dia do evento!\")\n",
        "    else:\n",
        "        r = ta - te\n",
        "        print(f\"evento ja passou\")\n",
        "elif ae > aa:\n",
        "    r = te - ta\n",
        "    print(f\"faltam {r} dias para o evento\")\n",
        "else:\n",
        "    r = (365 - ta) + te\n",
        "    print(f\"evento já passou\")\n"
      ],
      "metadata": {
        "id": "PYsPTOlitBzN",
        "colab": {
          "base_uri": "https://localhost:8080/"
        },
        "outputId": "68ed3b1c-c1e4-421f-988c-0c179730a143"
      },
      "execution_count": 62,
      "outputs": [
        {
          "output_type": "stream",
          "name": "stdout",
          "text": [
            "data atual (dd mm aaaa): 05 10 2025\n",
            "data do evento (dd mm aaaa): 07 10 2025\n",
            "faltam 2 dias para o evento\n"
          ]
        }
      ]
    },
    {
      "cell_type": "code",
      "source": [
        "#14\n",
        "idade = int(input(\"qual a idade da criança? \"))\n",
        "tempo = int(input(\"quanto tempo ela fica nas telas? \"))\n",
        "if idade < 2:\n",
        "    if tempo > 0:\n",
        "        print(\"exagerado\")\n",
        "    else:\n",
        "        print(\"adequado\")\n",
        "elif idade < 5:\n",
        "    if tempo > 1:\n",
        "        print(\"exagerado\")\n",
        "    else:\n",
        "        print(\"adequado\")\n",
        "elif idade < 12:\n",
        "    if tempo > 2:\n",
        "        print(\"exagerado\")\n",
        "    else:\n",
        "        print(\"adequado\")\n",
        "else:\n",
        "    if tempo > 3:\n",
        "        print(\"exagerado\")\n",
        "    else:\n",
        "        print(\"adequado\")\n"
      ],
      "metadata": {
        "id": "P50reBSWtCil",
        "colab": {
          "base_uri": "https://localhost:8080/"
        },
        "outputId": "be01e5b0-165f-49a9-df02-fa46864b0ee5"
      },
      "execution_count": 4,
      "outputs": [
        {
          "output_type": "stream",
          "name": "stdout",
          "text": [
            "qual a idade da criança? 18\n",
            "quanto tempo ela fica nas telas? 8\n",
            "exagerado\n"
          ]
        }
      ]
    },
    {
      "cell_type": "code",
      "source": [
        "#15\n",
        "h1, m1 = map(int, input(\"horario da saida?\").split())\n",
        "tv = int(input('qual o tempo de voo?(em minutos) '))\n",
        "te = int(input(\"qual o tempo de escala?(em minutos) \"))\n",
        "tm = h1 * 60 + m1 + tv + te\n",
        "h2 = tm // 60\n",
        "m2 = tm % 60\n",
        "dh = tm // 60\n",
        "dm = tm % 60\n",
        "print(f\"chegada prevista: {h2:02d}:{m2:02d}\")\n",
        "print(f\"duraçao total: {dh}h {dm}m\")\n"
      ],
      "metadata": {
        "id": "_ob9JaKrtDV9",
        "colab": {
          "base_uri": "https://localhost:8080/"
        },
        "outputId": "42c345c0-8f22-420e-f841-2334677f0401"
      },
      "execution_count": 7,
      "outputs": [
        {
          "output_type": "stream",
          "name": "stdout",
          "text": [
            "horario da saida?13 30\n",
            "qual o tempo de voo? 120\n",
            "qual o tempo de escala? 30\n",
            "chegada prevista: 16:00\n",
            "duração total: 16h 0m\n"
          ]
        }
      ]
    },
    {
      "cell_type": "code",
      "source": [
        "#16\n",
        "valor_compra = float(input(\"Informe o valor da compra: R$ \"))\n",
        "desconto_total = 0.0\n",
        "valor_com_desconto = 0.0\n",
        "economia = 0.0\n",
        "if valor_compra <= 100:\n",
        "    desconto = valor_compra * 0.05\n",
        "    valor_com_desconto = valor_compra - desconto\n",
        "    economia = desconto\n",
        "elif valor_compra <= 200:\n",
        "    desconto_faixa1 = 100 * 0.05\n",
        "    valor_excedente = valor_compra - 100\n",
        "    desconto_faixa2 = valor_excedente * 0.10\n",
        "    desconto_total = desconto_faixa1 + desconto_faixa2\n",
        "    valor_com_desconto = valor_compra - desconto_total\n",
        "    economia = desconto_total\n",
        "else:\n",
        "    desconto_faixa1 = 100 * 0.05\n",
        "    desconto_faixa2 = 100 * 0.10\n",
        "    valor_excedente = valor_compra - 200\n",
        "    desconto_faixa3 = valor_excedente * 0.15\n",
        "    desconto_total = desconto_faixa1 + desconto_faixa2 + desconto_faixa3\n",
        "    valor_com_desconto = valor_compra - desconto_total\n",
        "    economia = desconto_total\n",
        "print(f\"\\nValor original da compra: R$ {valor_compra:.2f}\")\n",
        "print(f\"Valor com desconto: R$ {valor_com_desconto:.2f}\")\n",
        "print(f\"Economia obtida: R$ {economia:.2f}\")"
      ],
      "metadata": {
        "id": "VD2MmMtUtET1"
      },
      "execution_count": null,
      "outputs": []
    },
    {
      "cell_type": "code",
      "source": [
        "#17\n",
        "def calcular_ganho_vida(idade, anos_habitos):\n",
        "    anos_restantes = idade + anos_habitos\n",
        "    faixas_ganho = {\n",
        "        (0, 5): 0.5,\n",
        "        (6, 10): 1.0,\n",
        "        (11, 15): 1.5,\n",
        "        (16, 20): 2.0,\n",
        "        (21, 99): 2.5\n",
        "    }\n",
        "    ganho_total = 0.0\n",
        "    anos_restantes = anos_habitos\n",
        "    while anos_restantes > 0:\n",
        "        for faixa, ganho in faixas_ganho.items():\n",
        "            inicio, fim = faixa\n",
        "            duracao_faixa = fim - inicio + 1\n",
        "            if anos_restantes <= duracao_faixa:\n",
        "                ganho_total += ganho * anos_restantes\n",
        "                anos_restantes = 0\n",
        "                break\n",
        "            else:\n",
        "                ganho_total += ganho * duracao_faixa\n",
        "                anos_restantes -= duracao_faixa\n",
        "\n",
        "    return ganho_total\n",
        "try:\n",
        "    idade = int(input(\"Digite sua idade atual: \"))\n",
        "    tempo_habitos = int(input(\"Por quanto tempo (em anos) pretende manter hábitos saudáveis? \"))\n",
        "except ValueError:\n",
        "    print(\"Por favor, insira números inteiros válidos.\")\n",
        "    exit()\n",
        "ganho_vida = calcular_ganho_vida(idade, tempo_habitos)\n",
        "expectativa_vida_base = 80\n",
        "nova_expectativa = expectativa_vida_base + ganho_vida\n",
        "\n",
        "print(f\"Estima-se que, mantendo hábitos saudáveis por {tempo_habitos} anos,\")\n",
        "print(f\"você pode ganhar aproximadamente {ganho_vida:.1f} anos de expectativa de vida extra.\")\n",
        "print(f\"Sua expectativa de vida estimada, considerando a média de 80 anos, é de aproximadamente {nova_expectativa:.1f} anos.\")"
      ],
      "metadata": {
        "id": "ytjuy3-EtGI9"
      },
      "execution_count": null,
      "outputs": []
    },
    {
      "cell_type": "code",
      "source": [
        "#18\n",
        "def calcular_horario_sono(hora_acordar):\n",
        "    try:\n",
        "        horas, minutos = map(int, hora_acordar.split(':'))\n",
        "        if not (0 <= horas <= 23 and 0 <= minutos <= 59):\n",
        "            raise ValueError\n",
        "    except ValueError:\n",
        "        return \"Formato de hora inválido. Use HH:MM (24 horas).\"\n",
        "\n",
        "    minutos_acordar = horas * 60 + minutos\n",
        "    horarios_ideais = []\n",
        "    for i in range(1, 4):\n",
        "        minutos_sono = minutos_acordar - i * 90\n",
        "        if minutos_sono < 0:\n",
        "            minutos_sono += 24 * 60\n",
        "\n",
        "        horas_sono = minutos_sono // 60\n",
        "        minutos_sono = minutos_sono % 60\n",
        "        horarios_ideais.append(f\"{horas_sono:02d}:{minutos_sono:02d}\")\n",
        "\n",
        "    return horarios_ideais\n",
        "\n",
        "hora_acordar = input(\"Digite a hora em que você precisa acordar (formato HH:MM): \")\n",
        "sugestoes = calcular_horario_sono(hora_acordar)\n",
        "\n",
        "if isinstance(sugestoes, list):\n",
        "    print(\"Horários ideais para dormir:\")\n",
        "    for i, horario in enumerate(sugestoes):\n",
        "        print(f\"{i+1}. {horario}\")"
      ],
      "metadata": {
        "id": "Ctw3fiuCtHOt"
      },
      "execution_count": null,
      "outputs": []
    },
    {
      "cell_type": "code",
      "source": [
        "#19\n",
        "passos_por_minuto = int(input(\"Quantos passos você dá por minuto? \"))\n",
        "tempo_caminhada_minutos = int(input(\"Por quantos minutos você caminhou? \"))\n",
        "passos_totais = passos_por_minuto * tempo_caminhada_minutos\n",
        "quilometros = passos_totais / 1300\n",
        "calorias_gastas = passos_totais * 0.04\n",
        "print(f\"\\nVocê caminhou aproximadamente {quilometros:.2f} quilômetros.\")\n",
        "print(f\"Estimativa de calorias gastas: {calorias_gastas:.2f} calorias.\")"
      ],
      "metadata": {
        "id": "_L66TXyltI8l"
      },
      "execution_count": null,
      "outputs": []
    },
    {
      "cell_type": "code",
      "source": [
        "#20\n",
        "import pytz\n",
        "import datetime\n",
        "fuso_horario = pytz.timezone(\"America/Sao_Paulo\")\n",
        "horario_atual = datetime.datetime.now(fuso_horario)\n",
        "por_do_sol =horario_atual . replace(hour=18, minute=0, second=0)\n",
        "if horario_atual > por_do_sol:\n",
        "        print(\"O sol já se pôs.\")\n",
        "else:\n",
        "        diferenca = por_do_sol - horario_atual\n",
        "        horas = diferenca.seconds // 3600\n",
        "        minutos = (diferenca.seconds % 3600) // 60\n",
        "        print(f\"Faltam {horas} horas e {minutos} minutos para o pôr do sol.\")\n"
      ],
      "metadata": {
        "id": "zLmhGzrftK_V"
      },
      "execution_count": null,
      "outputs": []
    },
    {
      "cell_type": "code",
      "source": [
        "#21\n",
        "entrada = input(\"Digite a entrada que deseja: \")\n",
        "principal = input(\"Digite o prato principal que deseja: \")\n",
        "sobremesa = input(\"Digite a sobremesa que deseja: \")\n",
        "tempo_de_preparo_entrada = int(input(f\"Digite o tempo de preparo do {entrada} em minutos: \"))\n",
        "tempo_de_preparo_principal = int(input(f\"Digite o tempo de preparo do {principal} em minutos: \"))\n",
        "tempo_de_preparo_sobremesa = int(input(f\"Digite o tempo de preparo da {sobremesa} em minutos: \"))\n",
        "tempo_total = tempo_de_preparo_entrada + tempo_de_preparo_principal + tempo_de_preparo_sobremesa\n",
        "print(f\"Tempo total de preparo: {tempo_total} minutos\")"
      ],
      "metadata": {
        "id": "dbjk06CItMId"
      },
      "execution_count": null,
      "outputs": []
    },
    {
      "cell_type": "code",
      "source": [
        "#22\n",
        "def planejar_viagem(distancia, tempo_parada, velocidade_media):\n",
        "    tempo_ida = distancia / velocidade_media\n",
        "    tempo_volta = distancia / velocidade_media\n",
        "    tempo_total = tempo_ida + tempo_volta + tempo_parada\n",
        "    tempo_descanso = tempo_parada\n",
        "\n",
        "    return tempo_total, tempo_descanso\n",
        "distancia = float(input(\"Informe a distância da viagem (em km): \"))\n",
        "tempo_parada = float(input(\"Informe o tempo de parada na cidade de destino (em horas): \"))\n",
        "velocidade_media = float(input(\"Informe a velocidade média esperada (em km/h): \"))\n",
        "\n",
        "tempo_total, tempo_descanso = planejar_viagem(distancia, tempo_parada, velocidade_media)\n",
        "\n",
        "print(f\"\\nTempo total da viagem (ida e volta): {tempo_total:.2f} horas\")\n",
        "print(f\"Tempo disponível para descanso antes do retorno: {tempo_descanso:.2f} horas\")"
      ],
      "metadata": {
        "id": "ouaFg0bLtM_9"
      },
      "execution_count": null,
      "outputs": []
    },
    {
      "cell_type": "code",
      "source": [
        "#23\n",
        "import pytz\n",
        "import datetime\n",
        "\n",
        "def calcular_segundos_ano_novo():\n",
        "    agora = datetime.datetime.now()\n",
        "    fuso_horario = pytz.timezone(\"America/Sao_Paulo\")\n",
        "    agora = agora.astimezone(fuso_horario)\n",
        "    proximo_ano = agora.year + 1\n",
        "    ano_novo = datetime.datetime(proximo_ano, 1, 1, 0, 0, 0, tzinfo=fuso_horario)\n",
        "    diferenca = ano_novo - agora\n",
        "    segundos = diferenca.total_seconds()\n",
        "    return int(segundos)\n",
        "\n",
        "segundos_restantes = calcular_segundos_ano_novo()\n",
        "print(f\"Faltam {segundos_restantes} segundos para o Ano Novo.\")"
      ],
      "metadata": {
        "id": "VLYm_GKetNuN"
      },
      "execution_count": null,
      "outputs": []
    },
    {
      "cell_type": "code",
      "source": [
        "#24\n",
        "temperaturas = []\n",
        "for dia in range(5):\n",
        "  print(f\"\\nDia {dia + 1}:\")\n",
        "  manhã = float(input(\"Temperatura da manhã: \"))\n",
        "  tarde = float(input(\"Temperatura da tarde: \"))\n",
        "  noite = float(input(\"Temperatura da noite: \"))\n",
        "  38\n",
        "  temperaturas.extend([manhã, tarde, noite])\n",
        "\n",
        "maior_temp = max(temperaturas)\n",
        "menor_temp = min(temperaturas)\n",
        "media_temp = sum(temperaturas) / len(temperaturas)\n",
        "\n",
        "risco_insolacao = False\n",
        "for dia in range(5):\n",
        "  inicio_dia = dia * 3\n",
        "  if temperaturas[inicio_dia] > 35 and temperaturas[inicio_dia + 1] > 35:\n",
        "            risco_insolacao = True\n",
        "            break\n",
        "            if temperaturas[inicio_dia] > 35 and temperaturas[inicio_dia + 2] > 35:\n",
        "              risco_insolacao = True\n",
        "            break\n",
        "            if temperaturas[inicio_dia+1] > 35 and temperaturas[inicio_dia + 2] > 35:\n",
        "              risco_insolacao = True\n",
        "            break\n",
        "print(f\"Maior temperatura da semana: {maior_temp}°C\")\n",
        "print(f\"Menor temperatura da semana: {menor_temp}°C\")\n",
        "print(f\"Média das temperaturas da semana: {media_temp:.2f}°C\")\n",
        "if risco_insolacao:\n",
        "  print(\"Houve risco de insolação.\")\n",
        "else:\n",
        "  print(\"Não houve risco de insolação.\")"
      ],
      "metadata": {
        "id": "Cq7sOGkXtOPl"
      },
      "execution_count": null,
      "outputs": []
    },
    {
      "cell_type": "code",
      "source": [
        "#25\n",
        "dias = int(input(\"Informe a quantidades de dias de pedalada: \"))\n",
        "velocidade = []\n",
        "duracoes = []\n",
        "for i in range(dias):\n",
        "  velocidade = float(input(f\"Informe a velocidade média do dia {i+1} (em km/h): \"))\n",
        "  duracao = float(input(f\"Informe a duração da pedalada do dia {i+1} (em horas): \"))\n",
        "  velocidade.append(velocidade)\n",
        "  duracoes.append(duracao)\n",
        "distancias = [velocidade * duracao for velocidade, duracao in zip(velocidade, duracoes)]\n",
        "distancia_total = sum(distancias)\n",
        "dia_maior_rendimento = distancias.index(max(maior_distancia)) + 1\n",
        "print(f\"Distância total percorrida foi de {distancias_total:.2f}km.\")\n",
        "print(f\"O dia de maior rendimento foi o dia {dia_maior_rendimento},com {max(distancias):.2f}km percorridos.\")"
      ],
      "metadata": {
        "id": "fmSfJe2rtRqN"
      },
      "execution_count": null,
      "outputs": []
    },
    {
      "cell_type": "code",
      "source": [
        "#26\n",
        "aparelhos = []\n",
        "for i in range(3):\n",
        "  potencia = float(input(f\"Informe a potência do aparelho {i+1} (em watts): \"))\n",
        "  tempo_uso_diario = float(input(f\"Informe o tempo de uso diário do aparelho {i+1} (em horas): \"))\n",
        "  aparelhos.append((potencia, tempo_uso_diario))\n",
        "\n",
        "consumo_mensal_total = 0\n",
        "for i, (potencia, tempo_uso_diario) in enumerate(aparelhos):\n",
        "  consumo_diario_kWh = (potencia / 1000) * tempo_uso_diario\n",
        "  consumo_mensal_kWh = consumo_diario_kWh * 30\n",
        "  consumo_mensal_total += consumo_mensal_kWh\n",
        "  print(f\"Consumo mensal do aparelho {i+1}: {consumo_mensal_kWh:.2f} kWh\")\n",
        "\n",
        "print(f\"Consumo mensal total da residência: {consumo_mensal_total:.2f} kWh\")"
      ],
      "metadata": {
        "id": "hVVIzYxYtS19"
      },
      "execution_count": null,
      "outputs": []
    },
    {
      "cell_type": "code",
      "source": [
        "#27\n",
        "import datetime\n",
        "\n",
        "def calcular_proximos_horarios(hora, minuto):\n",
        "    horario_atual = datetime.datetime.now().replace(hour=hora, minute=minuto, second=0, microsecond=0)\n",
        "    proximos_horarios = []\n",
        "    for i in range(1, 4):\n",
        "        proximo_horario = horario_atual + datetime.timedelta(hours=8 * i)\n",
        "        proximos_horarios.append(proximo_horario.strftime(\"%H:%M\"))\n",
        "    return proximos_horarios\n",
        "\n",
        "hora_inicial = int(input(\"Digite a hora em que o remédio foi tomado: \"))\n",
        "minuto_inicial = int(input(\"Digite o minuto em que o remédio foi tomado: \"))\n",
        "\n",
        "proximos_horarios = calcular_proximos_horarios(hora_inicial, minuto_inicial)\n",
        "\n",
        "print(\"Os próximos 3 horários para tomar o remédio são:\")\n",
        "for horario in proximos_horarios:\n",
        "    print(horario)"
      ],
      "metadata": {
        "id": "mOmOUyLdtT41"
      },
      "execution_count": null,
      "outputs": []
    },
    {
      "cell_type": "code",
      "source": [
        "#28\n",
        "import pytz\n",
        "import datetime\n",
        "\n",
        "fuso_horario = pytz.timezone(\"America/Sao_Paulo\")\n",
        "horario_atual = datetime.datetime.now(fuso_horario)\n",
        "inicio_filme = horario_atual.replace(hour=20, minute=0, second=0)\n",
        "\n",
        "tempo_perdido_horas = 0\n",
        "tempo_perdido_minutos = 0\n",
        "if horario_atual < inicio_filme:\n",
        "  diferenca = inicio_filme - horario_atual\n",
        "  horas = diferenca.seconds // 3600\n",
        "  minutos = (diferenca.seconds % 3600) // 60\n",
        "  print(f\"Faltam {horas} horas e {minutos} minutos para o início do filme.\")\n",
        "else:\n",
        "  diferenca = horario_atual - inicio_filme\n",
        "  tempo_perdido_horas = diferenca.seconds // 3600\n",
        "  tempo_perdido_minutos = (diferenca.seconds % 3600) // 60\n",
        "\n",
        "if tempo_perdido_horas < 2 :\n",
        "  tempo_filme_restante_horas = 2 - tempo_perdido_horas\n",
        "  tempo_filme_restante_minutos = 60 - tempo_perdido_minutos\n",
        "  print(f\"Você perdeu {tempo_perdido_horas} horas e {tempo_perdido_minutos} minutos de filme.\")\n",
        "  print(f\"Ainda faltam {tempo_filme_restante_horas} horas e {tempo_filme_restante_minutos} minutos de filme.\")\n",
        "else:\n",
        "  print(f\"Você perdeu {tempo_perdido_horas} horas e {tempo_perdido_minutos} minutos de filme.\")\n",
        "  print(f\"O filme já acabou.\")"
      ],
      "metadata": {
        "id": "iGodwov9tUme"
      },
      "execution_count": null,
      "outputs": []
    },
    {
      "cell_type": "code",
      "source": [
        "#29\n",
        "def calcular_tempo_estudo(horas_disponiveis, num_disciplinas):\n",
        "    tempo_por_disciplina = horas_disponiveis / num_disciplinas\n",
        "    tempos = {}\n",
        "    alerta = False\n",
        "    for i in range(num_disciplinas):\n",
        "        tempos[f'disciplina_{i+1}'] = tempo_por_disciplina\n",
        "        if tempo_por_disciplina < 1:\n",
        "            alerta = True\n",
        "    return tempos, alerta\n",
        "\n",
        "horas_disponiveis = float(input(\"Digite o total de horas disponíveis na semana para estudo: \"))\n",
        "num_disciplinas = int(input(\"Digite a quantidade de disciplinas: \"))\n",
        "\n",
        "tempos_estudo, alerta = calcular_tempo_estudo(horas_disponiveis, num_disciplinas)\n",
        "\n",
        "for disciplina, tempo in tempos_estudo.items():\n",
        "    print(f\"{disciplina}: {tempo:.2f} horas\")\n",
        "\n",
        "if alerta:\n",
        "    print(\"Alerta: Pelo menos uma disciplina tem menos de 1 hora de estudo.\")"
      ],
      "metadata": {
        "id": "FmRnssfNtVOt"
      },
      "execution_count": null,
      "outputs": []
    },
    {
      "cell_type": "code",
      "source": [
        "#30\n",
        "tarefas_diarias = []\n",
        "for dia in range(5):\n",
        "  tarefas = int(input(f\"Digite o número de tarefas concluídas no dia {dia + 1}: \"))\n",
        "  tarefas_diarias.append(tarefas)\n",
        "  media_tarefas = sum(tarefas_diarias) / len(tarefas_diarias)\n",
        "  print(f\"\\nA média de tarefas concluídas por dia é: {media_tarefas:.2f}\")\n",
        "  queda_consecutiva = 0\n",
        "for i in range(1, len(tarefas_diarias)):\n",
        "  if tarefas_diarias[i] < tarefas_diarias[i - 1]:\n",
        "    queda_consecutiva += 1\n",
        "    if queda_consecutiva >= 2:\n",
        "      print(\"\\nAlerta: Produtividade caiu por dois dias consecutivos!\")\n",
        "      break\n",
        "else:\n",
        "  queda_consecutiva = 0"
      ],
      "metadata": {
        "id": "BRMlBbSOtWCV"
      },
      "execution_count": null,
      "outputs": []
    }
  ]
}