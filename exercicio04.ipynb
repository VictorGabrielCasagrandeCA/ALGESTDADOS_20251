{
  "nbformat": 4,
  "nbformat_minor": 0,
  "metadata": {
    "colab": {
      "provenance": [],
      "authorship_tag": "ABX9TyPzBpkoRjFoK0QRLZu5hDcn",
      "include_colab_link": true
    },
    "kernelspec": {
      "name": "python3",
      "display_name": "Python 3"
    },
    "language_info": {
      "name": "python"
    }
  },
  "cells": [
    {
      "cell_type": "markdown",
      "metadata": {
        "id": "view-in-github",
        "colab_type": "text"
      },
      "source": [
        "<a href=\"https://colab.research.google.com/github/VictorGabrielCasagrandeCA/ALGESTDADOS_20251/blob/main/exercicio04.ipynb\" target=\"_parent\"><img src=\"https://colab.research.google.com/assets/colab-badge.svg\" alt=\"Open In Colab\"/></a>"
      ]
    },
    {
      "cell_type": "code",
      "execution_count": 33,
      "metadata": {
        "colab": {
          "base_uri": "https://localhost:8080/"
        },
        "id": "woC3PTvjSv74",
        "outputId": "618cc53d-e8bf-47c0-931e-dbd58b19b2fb"
      },
      "outputs": [
        {
          "output_type": "stream",
          "name": "stdout",
          "text": [
            "qual o número?3\n",
            "esse número é válido\n"
          ]
        }
      ],
      "source": [
        "num= int (input('qual o número?'))\n",
        "if num > 10:\n",
        "  print('esse número é muito grande')\n",
        "else:\n",
        "  print('esse número é válido')\n"
      ]
    },
    {
      "cell_type": "code",
      "source": [
        "num= int (input('qual o número?'))\n",
        "if num%2 == 0:\n",
        "  print('é par')\n",
        "else:\n",
        "  print('é impar')"
      ],
      "metadata": {
        "colab": {
          "base_uri": "https://localhost:8080/"
        },
        "id": "FYl3AgvYWjqp",
        "outputId": "aa02aa1b-62ab-4bbc-ad99-8d66ca82c268"
      },
      "execution_count": 35,
      "outputs": [
        {
          "output_type": "stream",
          "name": "stdout",
          "text": [
            "qual o número?5\n",
            "é impar\n"
          ]
        }
      ]
    },
    {
      "cell_type": "code",
      "source": [
        "name= input('qual o nome?')\n",
        "if 'a' in name:\n",
        "  print('esse nome tem a letra A')\n",
        "else:\n",
        "  print('esse nome não tem a letra A')"
      ],
      "metadata": {
        "colab": {
          "base_uri": "https://localhost:8080/"
        },
        "id": "cFxKBdwlZ3HO",
        "outputId": "85648510-a2a4-4610-9142-d774c66e1c66"
      },
      "execution_count": 36,
      "outputs": [
        {
          "output_type": "stream",
          "name": "stdout",
          "text": [
            "qual o nome?Beatriz\n",
            "esse nome tem a letra A\n"
          ]
        }
      ]
    },
    {
      "cell_type": "code",
      "source": [
        "num= int (input('qual o número?'))\n",
        "if num%5 == 0:\n",
        "  print('esse número é divísivel por 5')\n",
        "else:\n",
        "  print('esse número não é divísivel por 5')"
      ],
      "metadata": {
        "colab": {
          "base_uri": "https://localhost:8080/"
        },
        "id": "lOi774WwcbkJ",
        "outputId": "3759c00a-8b4d-42ad-b6d7-a9d29175f7ea"
      },
      "execution_count": 38,
      "outputs": [
        {
          "output_type": "stream",
          "name": "stdout",
          "text": [
            "qual o número?12\n",
            "esse número não é divísivel por 5\n"
          ]
        }
      ]
    },
    {
      "cell_type": "code",
      "source": [
        "temp= float (input('qual a temperatura em graus celsius?'))\n",
        "if temp > 30:\n",
        "  print('está quente')\n",
        "else:\n",
        "  print('não está quente')"
      ],
      "metadata": {
        "colab": {
          "base_uri": "https://localhost:8080/"
        },
        "id": "4ovcMyDJda_t",
        "outputId": "31ed3e82-a5a2-4c0f-b640-080974d2cdc5"
      },
      "execution_count": 40,
      "outputs": [
        {
          "output_type": "stream",
          "name": "stdout",
          "text": [
            "qual a temperatura em graus celsius?33\n",
            "está quente\n"
          ]
        }
      ]
    },
    {
      "cell_type": "code",
      "source": [
        "wuw= input('deseja continuar a ação? S/N')\n",
        "wuw= wuw.upper()\n",
        "if 'S' in wuw:\n",
        "  print('continuando ação')\n",
        "elif 'N' in wuw:\n",
        "  print('cancelando ação')\n",
        "else:\n",
        "  print('resposta inválida')"
      ],
      "metadata": {
        "colab": {
          "base_uri": "https://localhost:8080/"
        },
        "id": "Enc2MAMOeMft",
        "outputId": "fe956ade-89a4-48d2-d56a-8bd301d7605b"
      },
      "execution_count": 54,
      "outputs": [
        {
          "output_type": "stream",
          "name": "stdout",
          "text": [
            "deseja continuar a ação? S/Nn\n",
            "cancelando ação\n"
          ]
        }
      ]
    },
    {
      "cell_type": "code",
      "source": [
        "num= float(input('qual o número?'))\n",
        "if num > 0:\n",
        "  print('esse número é positivo')\n",
        "elif num == 0:\n",
        "  print('esse número é 0')\n",
        "else:\n",
        "  print('esse número é negativo')\n"
      ],
      "metadata": {
        "colab": {
          "base_uri": "https://localhost:8080/"
        },
        "id": "5kWwImD9hj0U",
        "outputId": "87fb4ca4-ae9b-4b01-832e-11ac08c0e96f"
      },
      "execution_count": 58,
      "outputs": [
        {
          "output_type": "stream",
          "name": "stdout",
          "text": [
            "qual o número?-9\n",
            "esse número é negativo\n"
          ]
        }
      ]
    },
    {
      "cell_type": "code",
      "source": [
        "ds= int(input('qual o dia da semana (de 1 a 7)'))\n",
        "if ds == 1:\n",
        "  print('é domingo')\n",
        "elif ds == 2:\n",
        "  print('é segunda')\n",
        "elif ds == 3:\n",
        "  print('é terça')\n",
        "elif ds == 4:\n",
        "  print('é quarta')\n",
        "elif ds == 5:\n",
        "  print('é sexta')\n",
        "elif ds == 6:\n",
        "  print('é sexta')\n",
        "elif ds == 7:\n",
        "  print('é sábado')\n",
        "else:\n",
        "  print('número não válido')"
      ],
      "metadata": {
        "colab": {
          "base_uri": "https://localhost:8080/"
        },
        "id": "ovrXdlyjjOZO",
        "outputId": "57129301-117d-4307-950a-0741b13ee284"
      },
      "execution_count": 63,
      "outputs": [
        {
          "output_type": "stream",
          "name": "stdout",
          "text": [
            "qual o dia da semana (de 1 a 7)8\n",
            "número não válido\n"
          ]
        }
      ]
    },
    {
      "cell_type": "code",
      "source": [
        "y= int(input('qual o ano?'))\n",
        "if y%400 == 0:\n",
        "  print('ano é bissexto')\n",
        "elif y%100 == 0:\n",
        "  print('ano não é bissexto')\n",
        "elif y%4 == 0:\n",
        "  print('ano é bissexto')\n",
        "else:\n",
        "  print('ano não é bissexto')"
      ],
      "metadata": {
        "colab": {
          "base_uri": "https://localhost:8080/"
        },
        "id": "9fZTbhycl4oO",
        "outputId": "7915ec9e-797b-46f4-f6d0-13cfade077ce"
      },
      "execution_count": 75,
      "outputs": [
        {
          "output_type": "stream",
          "name": "stdout",
          "text": [
            "qual o ano?2024\n",
            "ano é bissexto\n"
          ]
        }
      ]
    },
    {
      "cell_type": "code",
      "source": [],
      "metadata": {
        "id": "kcVMubLNpGMW"
      },
      "execution_count": null,
      "outputs": []
    }
  ]
}