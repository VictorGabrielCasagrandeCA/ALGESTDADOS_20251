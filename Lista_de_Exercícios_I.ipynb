{
  "nbformat": 4,
  "nbformat_minor": 0,
  "metadata": {
    "colab": {
      "provenance": [],
      "authorship_tag": "ABX9TyNWlBG1Cu0NiPjMfH+FjW1i",
      "include_colab_link": true
    },
    "kernelspec": {
      "name": "python3",
      "display_name": "Python 3"
    },
    "language_info": {
      "name": "python"
    }
  },
  "cells": [
    {
      "cell_type": "markdown",
      "metadata": {
        "id": "view-in-github",
        "colab_type": "text"
      },
      "source": [
        "<a href=\"https://colab.research.google.com/github/VictorGabrielCasagrandeCA/ALGESTDADOS_20251/blob/main/Lista_de_Exerc%C3%ADcios_I.ipynb\" target=\"_parent\"><img src=\"https://colab.research.google.com/assets/colab-badge.svg\" alt=\"Open In Colab\"/></a>"
      ]
    },
    {
      "cell_type": "markdown",
      "source": [
        "Victor Gabirel 1-15\n",
        "--- João Vitor 16-30"
      ],
      "metadata": {
        "id": "bkZGsDMoY3fX"
      }
    },
    {
      "cell_type": "code",
      "execution_count": null,
      "metadata": {
        "colab": {
          "base_uri": "https://localhost:8080/"
        },
        "id": "MEkLUhBEXKQf",
        "outputId": "037046f7-8a9d-4d43-b200-7a282c44c675"
      },
      "outputs": [
        {
          "output_type": "stream",
          "name": "stdout",
          "text": [
            "qual o número?50\n",
            "esse número é igual ou maior que 50\n"
          ]
        }
      ],
      "source": [
        "#1\n",
        "num= int (input('qual o número?'))\n",
        "if num > 50:\n",
        "  print('esse número é menor que 50')\n",
        "else:\n",
        "  print('esse número é igual ou maior que 50')\n"
      ]
    },
    {
      "cell_type": "code",
      "source": [
        "#2\n",
        "num= int (input('qual o número?'))\n",
        "if num%7 == 0:\n",
        "  print('esse número é divísivel por 7')\n",
        "else:\n",
        "  print('esse número não é divísivel por 7')"
      ],
      "metadata": {
        "colab": {
          "base_uri": "https://localhost:8080/"
        },
        "id": "pm3LzszmXzKZ",
        "outputId": "b0707139-c8d0-400d-902d-341ef9996aa7"
      },
      "execution_count": null,
      "outputs": [
        {
          "output_type": "stream",
          "name": "stdout",
          "text": [
            "qual o número?15\n",
            "esse número não é divísivel por 7\n"
          ]
        }
      ]
    },
    {
      "cell_type": "code",
      "source": [
        "#3\n",
        "name= input('qual o nome?')\n",
        "if 'o' in name:\n",
        "  print('esse nome tem a letra O')\n",
        "else:\n",
        "  print('esse nome não tem a letra O')"
      ],
      "metadata": {
        "colab": {
          "base_uri": "https://localhost:8080/"
        },
        "id": "6mJwKIBUZSo4",
        "outputId": "729f8228-b2e3-46d6-b12c-974a4e5ff577"
      },
      "execution_count": null,
      "outputs": [
        {
          "output_type": "stream",
          "name": "stdout",
          "text": [
            "qual o nome?Victor\n",
            "esse nome tem a letra O\n"
          ]
        }
      ]
    },
    {
      "cell_type": "code",
      "source": [
        "#4\n",
        "num= int(input('Qual o número?'))\n",
        "if num % 10 == 0:\n",
        "  print(f'{num} termina em 0.')\n",
        "else:\n",
        "  print(f'{num} não termina em 0.')"
      ],
      "metadata": {
        "id": "CnbZ4yI2ZgCZ",
        "colab": {
          "base_uri": "https://localhost:8080/"
        },
        "outputId": "543fd80e-8892-4029-d65c-354df039b72e"
      },
      "execution_count": 6,
      "outputs": [
        {
          "output_type": "stream",
          "name": "stdout",
          "text": [
            "Qual o número?128736946009900\n",
            "128736946009900 termina em 0.\n"
          ]
        }
      ]
    },
    {
      "cell_type": "code",
      "source": [
        "#5\n",
        "i= int(input('Qual a sua idade?'))\n",
        "if i >= 16:\n",
        "  print('Voce tem idade para votar')\n",
        "else:\n",
        "  print('Voce não pode votar')"
      ],
      "metadata": {
        "colab": {
          "base_uri": "https://localhost:8080/"
        },
        "id": "P04dkr_POmHY",
        "outputId": "e39f74bb-9705-40af-9532-859704def940"
      },
      "execution_count": 4,
      "outputs": [
        {
          "output_type": "stream",
          "name": "stdout",
          "text": [
            "Qual a sua idade?17\n",
            "Voce tem idade para votar\n"
          ]
        }
      ]
    },
    {
      "cell_type": "code",
      "source": [
        "#6\n",
        "c= input(\"Digite alguma coisa  \")\n",
        "if c.lower() in ('a', 'e', 'i', 'o', 'u'):\n",
        "  print('é uma vogal.')\n",
        "else:\n",
        "  print('não é uma vogal.')"
      ],
      "metadata": {
        "colab": {
          "base_uri": "https://localhost:8080/"
        },
        "id": "J-pjgUBOPncb",
        "outputId": "6846d521-721d-49b7-b818-cdaaa1a0454f"
      },
      "execution_count": 8,
      "outputs": [
        {
          "output_type": "stream",
          "name": "stdout",
          "text": [
            "Digite alguma coisa  k\n",
            "não é uma vogal.\n"
          ]
        }
      ]
    },
    {
      "cell_type": "code",
      "source": [
        "#7\n",
        "t= float(input('Qual a temperatura?'))\n",
        "if t<= 0:\n",
        "  print('esta frio')\n",
        "elif 0<t<20:\n",
        "  print('esta normal')\n",
        "else:\n",
        "  print('esta quente')"
      ],
      "metadata": {
        "colab": {
          "base_uri": "https://localhost:8080/"
        },
        "id": "C78tnTPKRAKO",
        "outputId": "a6eb4a96-c506-4a2f-e6b4-2beaba8d6959"
      },
      "execution_count": 17,
      "outputs": [
        {
          "output_type": "stream",
          "name": "stdout",
          "text": [
            "Qual a temperatura?99\n",
            "esta quente\n"
          ]
        }
      ]
    },
    {
      "cell_type": "code",
      "source": [
        "#8\n",
        "num= float(input('qual o número?'))\n",
        "if num > 1000:\n",
        "  print('esse número é maior que 1000')\n",
        "elif num == 1000:\n",
        "  print('esse número é 1000')\n",
        "else:\n",
        "  print('esse número é menor que 1000')"
      ],
      "metadata": {
        "colab": {
          "base_uri": "https://localhost:8080/"
        },
        "id": "Q-jizxB-S9Q4",
        "outputId": "1e132c48-c305-4ea3-8a07-f8a666000103"
      },
      "execution_count": 24,
      "outputs": [
        {
          "output_type": "stream",
          "name": "stdout",
          "text": [
            "qual o número?-1\n",
            "esse número é menor que 1000\n"
          ]
        }
      ]
    },
    {
      "cell_type": "code",
      "source": [
        "#9\n",
        "mny= float(input('quanto deve ser pago?'))\n",
        "if mny % 50 == 0:\n",
        "  print('pode ser pago com apenas notas de 50')\n",
        "else:\n",
        "  print('nao pd ser pago apenas com notas de 50')"
      ],
      "metadata": {
        "colab": {
          "base_uri": "https://localhost:8080/"
        },
        "id": "BMCtSaSaUKg0",
        "outputId": "080b6778-62da-48ef-a680-0f6344c513c2"
      },
      "execution_count": 27,
      "outputs": [
        {
          "output_type": "stream",
          "name": "stdout",
          "text": [
            "quanto deve ser pago?999900\n",
            "pode ser pago com apenas notas de 50\n"
          ]
        }
      ]
    },
    {
      "cell_type": "code",
      "source": [
        "#10\n",
        "n= float(input('qual o número?'))\n",
        "if n<=100:\n",
        "  print(f'{n} é menor que 100')\n",
        "elif 100<n<200:\n",
        "  print(f'{n} esta entre 100 e 200')\n",
        "else:\n",
        "  print(f'{n} é maior que 200')"
      ],
      "metadata": {
        "colab": {
          "base_uri": "https://localhost:8080/"
        },
        "id": "CDjmsIlgU7IJ",
        "outputId": "3e4f5cf1-62be-4bb8-df40-d37f02f3799a"
      },
      "execution_count": 38,
      "outputs": [
        {
          "output_type": "stream",
          "name": "stdout",
          "text": [
            "qual o número?199\n",
            "199.0 esta entre 100 e 200\n"
          ]
        }
      ]
    },
    {
      "cell_type": "code",
      "source": [
        "#11\n",
        "h= float(input('qual a altura da arvore?(em Metros)  '))\n",
        "if h<=0:\n",
        "  print('altura invalida')\n",
        "elif h<=5:\n",
        "  print('é uma arvore baixa')\n",
        "else:\n",
        "  print('é uma arvore alta')\n"
      ],
      "metadata": {
        "colab": {
          "base_uri": "https://localhost:8080/"
        },
        "id": "vesOY4TvYODO",
        "outputId": "5fa467e8-a49a-4e56-df41-292bae1e80a7"
      },
      "execution_count": 47,
      "outputs": [
        {
          "output_type": "stream",
          "name": "stdout",
          "text": [
            "qual a altura da arvore?(em Metros)  7\n",
            "é uma arvore alta\n"
          ]
        }
      ]
    },
    {
      "cell_type": "code",
      "source": [
        "#12\n",
        "tl= float(input('qual a temperatura do liquido?  '))\n",
        "if tl<= 0:\n",
        "  print('o liquido esta congelado')\n",
        "elif 0<tl<=100:\n",
        "  print('o liquido esta no estado liquido')\n",
        "else:\n",
        "  print('o liquido esta no estado de ebulição')"
      ],
      "metadata": {
        "colab": {
          "base_uri": "https://localhost:8080/"
        },
        "id": "RhupsQgUZLT1",
        "outputId": "45522da6-248a-4245-c339-2de76cf5f3d3"
      },
      "execution_count": 70,
      "outputs": [
        {
          "output_type": "stream",
          "name": "stdout",
          "text": [
            "qual a temperatura do liquido?  12\n",
            "o liquido esta no estado liquido\n"
          ]
        }
      ]
    },
    {
      "cell_type": "code",
      "source": [
        "#13\n",
        "num= int(input('qual o numero? '))\n",
        "if num % 10 == 0:\n",
        "  print(f'{num} é multiplo de 10')\n",
        "else:\n",
        "  print(f'{num} não é multiplo de 10')"
      ],
      "metadata": {
        "colab": {
          "base_uri": "https://localhost:8080/"
        },
        "id": "3WXUeQzDd9Ak",
        "outputId": "42fa9c5d-3a66-458c-f10b-e28ea3af326b"
      },
      "execution_count": 65,
      "outputs": [
        {
          "output_type": "stream",
          "name": "stdout",
          "text": [
            "qual o numero? 19800\n",
            "19800 é multiplo de 10\n"
          ]
        }
      ]
    },
    {
      "cell_type": "code",
      "source": [
        "#14\n",
        "nfa1 = float(input('qual a nota do aluno 1?'))\n",
        "nfa2 = float(input('qual a nota do aluno 2?'))\n",
        "if nfa1>nfa2:\n",
        "  print('o aluno 1 tem mais nota que aluno 2')\n",
        "elif nfa1==nfa2:\n",
        "  print('os alunos tem a msm nota')\n",
        "else:\n",
        "  print('o aluno 2 tem mais nota que o aluno 1')"
      ],
      "metadata": {
        "colab": {
          "base_uri": "https://localhost:8080/"
        },
        "id": "OdwvthKOe0Ky",
        "outputId": "86c73896-870f-46dc-ee3a-bfb5d35f3286"
      },
      "execution_count": 73,
      "outputs": [
        {
          "output_type": "stream",
          "name": "stdout",
          "text": [
            "qual a nota do aluno 1?9\n",
            "qual a nota do aluno 2?10\n",
            "o aluno 2 tem mais nota que o aluno 1\n"
          ]
        }
      ]
    },
    {
      "cell_type": "code",
      "source": [
        "#15\n",
        "f= input('qual o nome da fruta?  ')\n",
        "if 'e' in f or 'E' in f:\n",
        "  print(f'{f} tem a letra \"e\"')\n",
        "else:\n",
        "  print(f'{f} nao tem a letra \"e\"')"
      ],
      "metadata": {
        "colab": {
          "base_uri": "https://localhost:8080/"
        },
        "id": "Byu59LxBe596",
        "outputId": "0a3b24df-fc4d-4b6f-e065-c268e3658094"
      },
      "execution_count": 69,
      "outputs": [
        {
          "output_type": "stream",
          "name": "stdout",
          "text": [
            "qual o nome da fruta?  maçã\n",
            "maçã nao tem a letra \"e\"\n"
          ]
        }
      ]
    }
  ]
}