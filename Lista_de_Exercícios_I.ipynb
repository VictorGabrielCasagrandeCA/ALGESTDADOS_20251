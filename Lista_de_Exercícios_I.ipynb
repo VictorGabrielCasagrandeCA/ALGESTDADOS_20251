{
  "nbformat": 4,
  "nbformat_minor": 0,
  "metadata": {
    "colab": {
      "provenance": [],
      "authorship_tag": "ABX9TyMnxtFVD/ijL5voN69Eqrkz",
      "include_colab_link": true
    },
    "kernelspec": {
      "name": "python3",
      "display_name": "Python 3"
    },
    "language_info": {
      "name": "python"
    }
  },
  "cells": [
    {
      "cell_type": "markdown",
      "metadata": {
        "id": "view-in-github",
        "colab_type": "text"
      },
      "source": [
        "<a href=\"https://colab.research.google.com/github/VictorGabrielCasagrandeCA/ALGESTDADOS_20251/blob/main/Lista_de_Exerc%C3%ADcios_I.ipynb\" target=\"_parent\"><img src=\"https://colab.research.google.com/assets/colab-badge.svg\" alt=\"Open In Colab\"/></a>"
      ]
    },
    {
      "cell_type": "markdown",
      "source": [
        "Victor Gabirel 1-15\n",
        "--- João Vitor 16-30"
      ],
      "metadata": {
        "id": "bkZGsDMoY3fX"
      }
    },
    {
      "cell_type": "code",
      "execution_count": 12,
      "metadata": {
        "colab": {
          "base_uri": "https://localhost:8080/"
        },
        "id": "MEkLUhBEXKQf",
        "outputId": "037046f7-8a9d-4d43-b200-7a282c44c675"
      },
      "outputs": [
        {
          "output_type": "stream",
          "name": "stdout",
          "text": [
            "qual o número?50\n",
            "esse número é igual ou maior que 50\n"
          ]
        }
      ],
      "source": [
        "num= int (input('qual o número?'))\n",
        "if num > 50:\n",
        "  print('esse número é menor que 50')\n",
        "else:\n",
        "  print('esse número é igual ou maior que 50')\n"
      ]
    },
    {
      "cell_type": "code",
      "source": [
        "#2\n",
        "num= int (input('qual o número?'))\n",
        "if num%7 == 0:\n",
        "  print('esse número é divísivel por 7')\n",
        "else:\n",
        "  print('esse número não é divísivel por 7')"
      ],
      "metadata": {
        "colab": {
          "base_uri": "https://localhost:8080/"
        },
        "id": "pm3LzszmXzKZ",
        "outputId": "b0707139-c8d0-400d-902d-341ef9996aa7"
      },
      "execution_count": 10,
      "outputs": [
        {
          "output_type": "stream",
          "name": "stdout",
          "text": [
            "qual o número?15\n",
            "esse número não é divísivel por 7\n"
          ]
        }
      ]
    },
    {
      "cell_type": "code",
      "source": [
        "#3\n",
        "name= input('qual o nome?')\n",
        "if 'o' in name:\n",
        "  print('esse nome tem a letra O')\n",
        "else:\n",
        "  print('esse nome não tem a letra O')"
      ],
      "metadata": {
        "colab": {
          "base_uri": "https://localhost:8080/"
        },
        "id": "6mJwKIBUZSo4",
        "outputId": "729f8228-b2e3-46d6-b12c-974a4e5ff577"
      },
      "execution_count": 11,
      "outputs": [
        {
          "output_type": "stream",
          "name": "stdout",
          "text": [
            "qual o nome?Victor\n",
            "esse nome tem a letra O\n"
          ]
        }
      ]
    },
    {
      "cell_type": "code",
      "source": [
        "#4\n",
        "num= int (input('qual o número?'))\n"
      ],
      "metadata": {
        "id": "CnbZ4yI2ZgCZ"
      },
      "execution_count": null,
      "outputs": []
    }
  ]
}