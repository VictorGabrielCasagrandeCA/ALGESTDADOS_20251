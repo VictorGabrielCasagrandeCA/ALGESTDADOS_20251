{
  "nbformat": 4,
  "nbformat_minor": 0,
  "metadata": {
    "colab": {
      "provenance": [],
      "authorship_tag": "ABX9TyO38CedKbS23f0YYHvrEWvl",
      "include_colab_link": true
    },
    "kernelspec": {
      "name": "python3",
      "display_name": "Python 3"
    },
    "language_info": {
      "name": "python"
    }
  },
  "cells": [
    {
      "cell_type": "markdown",
      "metadata": {
        "id": "view-in-github",
        "colab_type": "text"
      },
      "source": [
        "<a href=\"https://colab.research.google.com/github/VictorGabrielCasagrandeCA/ALGESTDADOS_20251/blob/main/Prova_atividade_Victor.ipynb\" target=\"_parent\"><img src=\"https://colab.research.google.com/assets/colab-badge.svg\" alt=\"Open In Colab\"/></a>"
      ]
    },
    {
      "cell_type": "code",
      "execution_count": 10,
      "metadata": {
        "colab": {
          "base_uri": "https://localhost:8080/"
        },
        "id": "Gzq2EsV4zLFY",
        "outputId": "d395a2ba-d422-4f5c-a93a-ec877d390019"
      },
      "outputs": [
        {
          "output_type": "stream",
          "name": "stdout",
          "text": [
            "o ano de agora: 2025\n"
          ]
        }
      ],
      "source": [
        "#07\n",
        "from datetime import datetime\n",
        "ag = datetime.now()\n",
        "ano = ag.year\n",
        "print(f\"o ano de agora: {ano}\")"
      ]
    },
    {
      "cell_type": "code",
      "source": [
        "#08\n",
        "for i in range (1, 11):\n",
        " if i%3== 0:\n",
        "  continue\n",
        " else:\n",
        "  print(i)"
      ],
      "metadata": {
        "colab": {
          "base_uri": "https://localhost:8080/"
        },
        "id": "5ZoJxD5AzXIk",
        "outputId": "402a8c12-da29-4377-af0d-1d9bb289ee56"
      },
      "execution_count": 5,
      "outputs": [
        {
          "output_type": "stream",
          "name": "stdout",
          "text": [
            "1\n",
            "2\n",
            "4\n",
            "5\n",
            "7\n",
            "8\n",
            "10\n"
          ]
        }
      ]
    },
    {
      "cell_type": "code",
      "source": [
        "#9\n",
        "fr = input(\"qual a frase? \")\n",
        "if len(fr) > 10:\n",
        " print(\" caracteres na frase\" ,len(fr))\n"
      ],
      "metadata": {
        "colab": {
          "base_uri": "https://localhost:8080/"
        },
        "id": "wUq3TexdziJO",
        "outputId": "785e28aa-a27f-4c8d-ee0e-4bb595c760eb"
      },
      "execution_count": 6,
      "outputs": [
        {
          "output_type": "stream",
          "name": "stdout",
          "text": [
            "qual a frase? Esta é a frase\n",
            " caracteres na frase 14\n"
          ]
        }
      ]
    },
    {
      "cell_type": "code",
      "source": [
        "#10\n",
        "PoteA = int(input(\"qual o valor no pote A? \"))\n",
        "PoteB = int(input(\"qual o valor no pote B? \"))\n",
        "PoteMid = PoteA\n",
        "PoteA = PoteB\n",
        "PoteB = PoteMid\n",
        "print(f\"{PoteA} = Pote A trocado por B\")\n",
        "print(f\"{PoteB} = Pote B trocado por A\")"
      ],
      "metadata": {
        "colab": {
          "base_uri": "https://localhost:8080/"
        },
        "id": "R-1qfAnizipH",
        "outputId": "41bf5dee-895c-4299-a3af-a6815b603bef"
      },
      "execution_count": 7,
      "outputs": [
        {
          "output_type": "stream",
          "name": "stdout",
          "text": [
            "qual o valor no pote A? 2\n",
            "qual o valor no pote B? 4\n",
            "4 = Pote A trocado por B\n",
            "2 = Pote B trocado por A\n"
          ]
        }
      ]
    }
  ]
}